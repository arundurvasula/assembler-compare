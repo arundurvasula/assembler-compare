{
 "metadata": {
  "name": "",
  "signature": "sha256:cd7e31770307aace11cca7cdf89e02ef4ab089bb0b9640918a2dff1000ef8439"
 },
 "nbformat": 3,
 "nbformat_minor": 0,
 "worksheets": [
  {
   "cells": [
    {
     "cell_type": "markdown",
     "metadata": {},
     "source": [
      "#Velvet:\n",
      "This cell runs VelvetOptimizer, which finds the best options to use for Velvet. The Optimization function tries for the larrgets number of long contigs."
     ]
    },
    {
     "cell_type": "code",
     "collapsed": true,
     "input": [
      "!VelvetOptimiser.pl -s 13 -e 31 -f '-fastq ../data/LV89-02.fastq' --optFuncCov=Lcon"
     ],
     "language": "python",
     "metadata": {},
     "outputs": [
      {
       "output_type": "stream",
       "stream": "stdout",
       "text": [
        "\r\n",
        "****************************************************\r\n",
        "           VelvetOptimiser.pl Version 2.2.5\r\n",
        "****************************************************\r\n"
       ]
      },
      {
       "output_type": "stream",
       "stream": "stdout",
       "text": [
        "Number of CPUs available: 4\r\n",
        "Current free RAM: 6.835GB\r\n",
        "Velvet OMP compiler setting: 1\r\n",
        "Jun 16 14:31:09 Starting to check input parameters.\r\n",
        "\tVelveth parameter string OK.\r\n",
        "Jun 16 14:31:09 Finished checking input parameters.\r\n",
        "Logfile name: 16-06-2014-14-31-09_Logfile.txt\r\n",
        "Velvet details:\r\n",
        "\tVelvet version: 1.2.09\r\n",
        "\tCompiled categories: 2\r\n",
        "\tCompiled max kmer length: 31\r\n",
        "\tMaximum number of velvetinstances to run: 4\r\n",
        "Will run velvet optimiser with the following paramters:\r\n",
        "\tVelveth parameter string:\r\n",
        "\t\t-fastq ../data/LV89-02.fastq\r\n",
        "\tVelveth start hash values:\t13\r\n",
        "\tVelveth end hash value:\t\t31\r\n",
        "\tVelveth hash step value:\t2\r\n",
        "\tVelvetg minimum coverage cutoff to use:\t0\r\n",
        "\r\n",
        "\tRead tracking for final assembly off.\r\n",
        "Jun 16 14:31:09 Beginning velveth runs.\r\n"
       ]
      },
      {
       "output_type": "stream",
       "stream": "stdout",
       "text": [
        "Jun 16 14:31:09\t\tRunning velveth with hash value: 13.\r\n"
       ]
      },
      {
       "output_type": "stream",
       "stream": "stdout",
       "text": [
        "Jun 16 14:31:11\t\tRunning velveth with hash value: 15.\r\n"
       ]
      },
      {
       "output_type": "stream",
       "stream": "stdout",
       "text": [
        "Jun 16 14:31:13\t\tRunning velveth with hash value: 17.\r\n"
       ]
      },
      {
       "output_type": "stream",
       "stream": "stdout",
       "text": [
        "Jun 16 14:31:15\t\tRunning velveth with hash value: 19.\r\n"
       ]
      },
      {
       "output_type": "stream",
       "stream": "stdout",
       "text": [
        "Jun 16 14:34:31\t\tVelveth with hash value 19 finished.\r\n"
       ]
      },
      {
       "output_type": "stream",
       "stream": "stdout",
       "text": [
        "Jun 16 14:34:31\t\tRunning velveth with hash value: 21.\r\n"
       ]
      },
      {
       "output_type": "stream",
       "stream": "stdout",
       "text": [
        "Jun 16 14:34:34\t\tVelveth with hash value 15 finished.\r\n"
       ]
      },
      {
       "output_type": "stream",
       "stream": "stdout",
       "text": [
        "Jun 16 14:34:35\t\tRunning velveth with hash value: 23.\r\n"
       ]
      },
      {
       "output_type": "stream",
       "stream": "stdout",
       "text": [
        "Jun 16 14:34:36\t\tVelveth with hash value 13 finished.\r\n"
       ]
      },
      {
       "output_type": "stream",
       "stream": "stdout",
       "text": [
        "Jun 16 14:34:37\t\tVelveth with hash value 17 finished.\r\n",
        "Jun 16 14:34:37\t\tRunning velveth with hash value: 25.\r\n"
       ]
      },
      {
       "output_type": "stream",
       "stream": "stdout",
       "text": [
        "Jun 16 14:34:40\t\tRunning velveth with hash value: 27.\r\n"
       ]
      },
      {
       "output_type": "stream",
       "stream": "stdout",
       "text": [
        "Jun 16 14:37:26\t\tVelveth with hash value 21 finished.\r\n"
       ]
      },
      {
       "output_type": "stream",
       "stream": "stdout",
       "text": [
        "Jun 16 14:37:27\t\tRunning velveth with hash value: 29.\r\n"
       ]
      },
      {
       "output_type": "stream",
       "stream": "stdout",
       "text": [
        "Jun 16 14:37:28\t\tVelveth with hash value 25 finished.\r\n"
       ]
      },
      {
       "output_type": "stream",
       "stream": "stdout",
       "text": [
        "Jun 16 14:37:29\t\tRunning velveth with hash value: 31.\r\n"
       ]
      },
      {
       "output_type": "stream",
       "stream": "stdout",
       "text": [
        "Jun 16 14:37:29\t\tVelveth with hash value 27 finished.\r\n"
       ]
      },
      {
       "output_type": "stream",
       "stream": "stdout",
       "text": [
        "Jun 16 14:37:29\t\tVelveth with hash value 23 finished.\r\n"
       ]
      },
      {
       "output_type": "stream",
       "stream": "stdout",
       "text": [
        "Jun 16 14:39:15\t\tVelveth with hash value 31 finished.\r\n"
       ]
      },
      {
       "output_type": "stream",
       "stream": "stdout",
       "text": [
        "Jun 16 14:39:20\t\tVelveth with hash value 29 finished.\r\n"
       ]
      },
      {
       "output_type": "stream",
       "stream": "stdout",
       "text": [
        "Jun 16 14:39:20 Finished velveth runs.\r\n",
        "Jun 16 14:39:20 Beginning vanilla velvetg runs.\r\n"
       ]
      },
      {
       "output_type": "stream",
       "stream": "stdout",
       "text": [
        "Jun 16 14:39:20\t\tRunning vanilla velvetg on hash value: 13\r\n"
       ]
      },
      {
       "output_type": "stream",
       "stream": "stdout",
       "text": [
        "Jun 16 14:39:22\t\tRunning vanilla velvetg on hash value: 15\r\n"
       ]
      },
      {
       "output_type": "stream",
       "stream": "stdout",
       "text": [
        "Jun 16 14:39:24\t\tRunning vanilla velvetg on hash value: 17\r\n"
       ]
      },
      {
       "output_type": "stream",
       "stream": "stdout",
       "text": [
        "Jun 16 14:39:26\t\tRunning vanilla velvetg on hash value: 19\r\n"
       ]
      },
      {
       "output_type": "stream",
       "stream": "stdout",
       "text": [
        "Jun 16 14:48:35\t\tVelvetg on hash value: 19 finished.\r\n"
       ]
      },
      {
       "output_type": "stream",
       "stream": "stdout",
       "text": [
        "Jun 16 14:48:37\t\tRunning vanilla velvetg on hash value: 21\r\n"
       ]
      },
      {
       "output_type": "stream",
       "stream": "stdout",
       "text": [
        "Jun 16 14:48:53\t\tVelvetg on hash value: 17 finished.\r\n"
       ]
      },
      {
       "output_type": "stream",
       "stream": "stdout",
       "text": [
        "Jun 16 14:48:55\t\tRunning vanilla velvetg on hash value: 23\r\n"
       ]
      },
      {
       "output_type": "stream",
       "stream": "stdout",
       "text": [
        "Jun 16 14:49:18\t\tVelvetg on hash value: 15 finished.\r\n"
       ]
      },
      {
       "output_type": "stream",
       "stream": "stdout",
       "text": [
        "Jun 16 14:49:19\t\tRunning vanilla velvetg on hash value: 25\r\n"
       ]
      },
      {
       "output_type": "stream",
       "stream": "stdout",
       "text": [
        "Jun 16 14:51:10\t\tVelvetg on hash value: 13 finished.\r\n"
       ]
      },
      {
       "output_type": "stream",
       "stream": "stdout",
       "text": [
        "Jun 16 14:51:11\t\tRunning vanilla velvetg on hash value: 27\r\n"
       ]
      },
      {
       "output_type": "stream",
       "stream": "stdout",
       "text": [
        "Jun 16 14:55:17\t\tVelvetg on hash value: 25 finished.\r\n"
       ]
      },
      {
       "output_type": "stream",
       "stream": "stdout",
       "text": [
        "Jun 16 14:55:18\t\tRunning vanilla velvetg on hash value: 29\r\n"
       ]
      },
      {
       "output_type": "stream",
       "stream": "stdout",
       "text": [
        "Jun 16 14:55:18\t\tVelvetg on hash value: 21 finished.\r\n"
       ]
      },
      {
       "output_type": "stream",
       "stream": "stdout",
       "text": [
        "Jun 16 14:55:19\t\tVelvetg on hash value: 23 finished.\r\n"
       ]
      },
      {
       "output_type": "stream",
       "stream": "stdout",
       "text": [
        "Jun 16 14:55:20\t\tRunning vanilla velvetg on hash value: 31\r\n"
       ]
      },
      {
       "output_type": "stream",
       "stream": "stdout",
       "text": [
        "Jun 16 14:56:04\t\tVelvetg on hash value: 27 finished.\r\n"
       ]
      },
      {
       "output_type": "stream",
       "stream": "stdout",
       "text": [
        "Jun 16 14:58:41\t\tVelvetg on hash value: 31 finished.\r\n"
       ]
      },
      {
       "output_type": "stream",
       "stream": "stdout",
       "text": [
        "Jun 16 14:58:59\t\tVelvetg on hash value: 29 finished.\r\n"
       ]
      },
      {
       "output_type": "stream",
       "stream": "stdout",
       "text": [
        "Jun 16 14:58:59 Hash value of best assembly by assembly score: 31\r\n",
        "Jun 16 14:58:59 Optimisation routine chosen for best assembly: shortOpt\r\n",
        "Jun 16 14:58:59 Looking for the expected coverage\r\n"
       ]
      },
      {
       "output_type": "stream",
       "stream": "stdout",
       "text": [
        "Jun 16 14:58:59\t\tExpected coverage set to 3\r\n",
        "Jun 16 14:58:59 Beginning coverage cutoff optimisation\r\n"
       ]
      },
      {
       "output_type": "stream",
       "stream": "stdout",
       "text": [
        "Jun 16 14:58:59\t\tSetting cov_cutoff to 1.483.\r\n"
       ]
      },
      {
       "output_type": "stream",
       "stream": "stdout",
       "text": [
        "**********\r\n",
        "Warning: Assembly score for assembly_id 10 is 0\r\n",
        "You may want to consider choosing a different optimisation variable or function.\r\n",
        "Current optimisation functions are n50 for k value and Lcon for cov_cutoff\r\n",
        "**********\r\n",
        "Jun 16 15:02:41\t\tSetting cov_cutoff to 0.917.\r\n"
       ]
      },
      {
       "output_type": "stream",
       "stream": "stdout",
       "text": [
        "**********\r\n",
        "Warning: Assembly score for assembly_id 10 is 0\r\n",
        "You may want to consider choosing a different optimisation variable or function.\r\n",
        "Current optimisation functions are n50 for k value and Lcon for cov_cutoff\r\n",
        "**********\r\n",
        "\t\tLooking for best cutoff score between 0.000 and 2.400\r\n",
        "\t\tMax cutoff lies between 0.000 & 1.483\r\n",
        "\t\tfc = 0\tfd = 0\tabs diff = 0\r\n",
        "Jun 16 15:03:28\t\tSetting cov_cutoff to 0.567.\r\n"
       ]
      },
      {
       "output_type": "stream",
       "stream": "stdout",
       "text": [
        "**********\r\n",
        "Warning: Assembly score for assembly_id 10 is 0\r\n",
        "You may want to consider choosing a different optimisation variable or function.\r\n",
        "Current optimisation functions are n50 for k value and Lcon for cov_cutoff\r\n",
        "**********\r\n",
        "\t\tMax cutoff lies between 0.000 & 0.917\r\n",
        "\t\tfc = 0\tfd = 0\tabs diff = 0\r\n",
        "Jun 16 15:04:18\t\tSetting cov_cutoff to 0.350.\r\n"
       ]
      },
      {
       "output_type": "stream",
       "stream": "stdout",
       "text": [
        "**********\r\n",
        "Warning: Assembly score for assembly_id 10 is 0\r\n",
        "You may want to consider choosing a different optimisation variable or function.\r\n",
        "Current optimisation functions are n50 for k value and Lcon for cov_cutoff\r\n",
        "**********\r\n",
        "\t\tOptimum value of cutoff is 0.92\r\n",
        "\t\tTook 3 iterations\r\n",
        "Jun 16 15:05:08\r\n",
        "\r\n",
        "\r\n",
        "Final optimised assembly details:\r\n",
        "********************************************************\r\n",
        "Assembly id: 10\r\n",
        "Velveth timestamp: Jun 16 2014 14:39:15\r\n",
        "Velvetg timestamp: Jun 16 2014 15:05:08\r\n",
        "Velveth version: 1.2.09\r\n",
        "Velvetg version: 1.2.09\r\n",
        "Readfile(s): -fastq ../data/LV89-02.fastq\r\n",
        "Velveth parameter string: auto_data_31 31 -fastq ../data/LV89-02.fastq\r\n",
        "Velvetg parameter string: auto_data_31  -clean yes -exp_cov 3 -cov_cutoff 0.3502176\r\n",
        "Assembly directory: /home/arun/Documents/assembler-compare/scripts/auto_data_31\r\n",
        "Velvet hash value: 31\r\n",
        "Roadmap file size: 439572844\r\n",
        "Total number of contigs: 3568\r\n",
        "n50: 98\r\n",
        "length of longest contig: 965\r\n",
        "Total bases in contigs: 329515\r\n",
        "Number of contigs > 1k: 0\r\n",
        "Total bases in contigs > 1k: 0\r\n",
        "**********************************************************\r\n",
        "\r\n",
        "\r\n",
        "Assembly output files are in the following directory:\r\n",
        "/home/arun/Documents/assembler-compare/scripts/auto_data_31\r\n",
        "\r\n"
       ]
      }
     ],
     "prompt_number": 17
    },
    {
     "cell_type": "markdown",
     "metadata": {},
     "source": [
      "#PRICE\n",
      "Running the PRICE assembler on Velvet ouput. Since the Velvet run with:\n",
      "\n",
      "    Velveth parameter string: auto_data_31 31 -fastq ../data/LV89-02.fastq\n",
      "    Velvetg parameter string: auto_data_31  -clean yes -exp_cov 3 -cov_cutoff 0.3502176\n",
      "\n",
      "produced an n50 of 98, I'm going to use that one. "
     ]
    },
    {
     "cell_type": "code",
     "collapsed": true,
     "input": [
      "!PriceTI -icf ../data/contigs-k31-n5098-max965.fa 10 10 3 -o ../data/price-1-contigs-k31-n5098-max965.fasta -nc 30 -nco 30 -mol 30 -mpi 80"
     ],
     "language": "python",
     "metadata": {},
     "outputs": [
      {
       "output_type": "stream",
       "stream": "stdout",
       "text": [
        "PRICE Assembler v1.2\r\n",
        "\r\n",
        "Launch command: PriceTI -icf ../data/contigs-k31-n5098-max965.fa 10 10 3 -o ../data/price-1-contigs-k31-n5098-max965.fasta -nc 30 -nco 30 -mol 30 -mpi 80\r\n",
        "\r\n",
        "****** CYCLE 1 ****** \r\n",
        "Collected new initial contigs: num contigs/total size/N50/max size = 356 / 39994 / 111 / 965\r\n",
        "Adding initial contigs: num contigs/total size/N50/max size = 356 / 39994 / 111 / 965\r\n"
       ]
      },
      {
       "output_type": "stream",
       "stream": "stdout",
       "text": [
        "Added initial contigs: num contigs/total size/N50/max size = 323 / 37450 / 119 / 965\r\n",
        "Msg: num contigs leftover: 0\r\n",
        "Percent of reads (out of 0) mapped: 0\r\n",
        "Num. reads filtered: 0\r\n",
        "Percent of reads (out of 0) mapped: 0\r\n",
        "Num. reads filtered: 0\r\n",
        "Percent of jobs (out of 323) done: 0\b1\b2\b3\b4\b5\b6\b7\b8\b9\b10\b\b11\b\b12\b\b13\b\b14\b\b15\b\b16\b\b17\b\b18\b\b19\b\b20\b\b21\b\b22\b\b23\b\b24\b\b25\b\b26\b\b27\b\b28\b\b29\b\b30\b\b31\b\b32\b\b33\b\b34\b\b35\b\b36\b\b37\b\b38\b\b39\b\b40\b\b41\b\b42\b\b43\b\b44\b\b45\b\b46\b\b47\b\b48\b\b49\b\b50\b\b51\b\b52\b\b53\b\b54\b\b55\b\b56\b\b57\b\b58\b\b59\b\b60\b\b61\b\b62\b\b63\b\b64\b\b65\b\b66\b\b67\b\b68\b\b69\b\b70\b\b71\b\b72\b\b73\b\b74\b\b75\b\b76\b\b77\b\b78\b\b79\b\b80\b\b81\b\b82\b\b83\b\b84\b\b85\b\b86\b\b87\b\b88\b\b89\b\b90\b\b91\b\b92\b\b93\b\b94\b\b95\b\b96\b\b97\b\b98\b\b99\b\b100\r\n",
        "meta-assembly of 323 contigs... "
       ]
      },
      {
       "output_type": "stream",
       "stream": "stdout",
       "text": [
        "collapsed into 323 contigs.\r\n",
        "End Cycle: num contigs/total size/N50/max size = 323 / 37450 / 119 / 965\r\n",
        "\r\n",
        "****** CYCLE 2 ****** \r\n",
        "Msg: num contigs leftover: 323\r\n",
        "Percent of reads (out of 0) mapped: 0\r\n",
        "Num. reads filtered: 0\r\n",
        "Percent of reads (out of 0) mapped: 0\r\n",
        "Num. reads filtered: 0\r\n",
        "Percent of jobs (out of 323) done: 0\b1\b2\b3\b4\b5\b6\b7\b8\b9\b10\b\b11\b\b12\b\b13\b\b14\b\b15\b\b16\b\b17\b\b18\b\b19\b\b20\b\b21\b\b22\b\b23\b\b24\b\b25\b\b26\b\b27\b\b28\b\b29\b\b30\b\b31\b\b32\b\b33\b\b34\b\b35\b\b36\b\b37\b\b38\b\b39\b\b40\b\b41\b\b42\b\b43\b\b44\b\b45\b\b46\b\b47\b\b48\b\b49\b\b50\b\b51\b\b52\b\b53\b\b54\b\b55\b\b56\b\b57\b\b58\b\b59\b\b60\b\b61\b\b62\b\b63\b\b64\b\b65\b\b66\b\b67\b\b68\b\b69\b\b70\b\b71\b\b72\b\b73\b\b74\b\b75\b\b76\b\b77\b\b78\b\b79\b\b80\b\b81\b\b82\b\b83\b\b84\b\b85\b\b86\b\b87\b\b88\b\b89\b\b90\b\b91\b\b92\b\b93\b\b94\b\b95\b\b96\b\b97\b\b98\b\b99\b\b100\r\n",
        "meta-assembly of 323 contigs... "
       ]
      },
      {
       "output_type": "stream",
       "stream": "stdout",
       "text": [
        "collapsed into 323 contigs.\r\n",
        "End Cycle: num contigs/total size/N50/max size = 323 / 37450 / 119 / 965\r\n",
        "\r\n",
        "****** CYCLE 3 ****** \r\n",
        "Msg: num contigs leftover: 323\r\n",
        "Percent of reads (out of 0) mapped: 0\r\n",
        "Num. reads filtered: 0\r\n",
        "Percent of reads (out of 0) mapped: 0\r\n",
        "Num. reads filtered: 0\r\n",
        "Percent of jobs (out of 323) done: 0\b1\b2\b3\b4\b5\b6\b7\b8\b9\b10\b\b11\b\b12\b\b13\b\b14\b\b15\b\b16\b\b17\b\b18\b\b19\b\b20\b\b21\b\b22\b\b23\b\b24\b\b25\b\b26"
       ]
      },
      {
       "output_type": "stream",
       "stream": "stdout",
       "text": [
        "\b\b27\b\b28\b\b29\b\b30\b\b31\b\b32\b\b33\b\b34\b\b35\b\b36\b\b37\b\b38\b\b39\b\b40\b\b41\b\b42\b\b43\b\b44\b\b45\b\b46\b\b47\b\b48\b\b49\b\b50\b\b51\b\b52\b\b53\b\b54\b\b55\b\b56\b\b57\b\b58\b\b59\b\b60\b\b61\b\b62\b\b63\b\b64\b\b65\b\b66\b\b67\b\b68\b\b69\b\b70\b\b71\b\b72\b\b73\b\b74\b\b75\b\b76\b\b77\b\b78\b\b79\b\b80\b\b81\b\b82\b\b83\b\b84\b\b85\b\b86\b\b87\b\b88\b\b89\b\b90\b\b91\b\b92\b\b93\b\b94\b\b95\b\b96\b\b97\b\b98\b\b99\b\b100\r\n",
        "meta-assembly of 323 contigs... "
       ]
      },
      {
       "output_type": "stream",
       "stream": "stdout",
       "text": [
        "collapsed into 323 contigs.\r\n",
        "End Cycle: num contigs/total size/N50/max size = 323 / 37450 / 119 / 965\r\n",
        "\r\n",
        "****** CYCLE 4 ****** \r\n",
        "Msg: num contigs leftover: 323\r\n",
        "Percent of reads (out of 0) mapped: 0\r\n",
        "Num. reads filtered: 0\r\n",
        "Percent of reads (out of 0) mapped: 0\r\n",
        "Num. reads filtered: 0\r\n",
        "Percent of jobs (out of 323) done: 0\b1\b2\b3\b4\b5\b6\b7\b8\b9\b10\b\b11\b\b12\b\b13\b\b14\b\b15\b\b16\b\b17\b\b18\b\b19\b\b20\b\b21\b\b22\b\b23\b\b24\b\b25\b\b26\b\b27\b\b28\b\b29\b\b30\b\b31\b\b32\b\b33\b\b34\b\b35\b\b36\b\b37\b\b38\b\b39\b\b40\b\b41\b\b42\b\b43\b\b44\b\b45\b\b46\b\b47\b\b48\b\b49\b\b50\b\b51\b\b52\b\b53\b\b54\b\b55\b\b56\b\b57\b\b58\b\b59\b\b60\b\b61\b\b62\b\b63\b\b64\b\b65\b\b66\b\b67\b\b68\b\b69\b\b70\b\b71\b\b72\b\b73\b\b74\b\b75\b\b76\b\b77\b\b78\b\b79\b\b80\b\b81\b\b82\b\b83\b\b84\b\b85\b\b86\b\b87\b\b88\b\b89\b\b90\b\b91\b\b92\b\b93\b\b94\b\b95\b\b96\b\b97\b\b98\b\b99\b\b100\r\n",
        "meta-assembly of 323 contigs... "
       ]
      },
      {
       "output_type": "stream",
       "stream": "stdout",
       "text": [
        "collapsed into 323 contigs.\r\n"
       ]
      },
      {
       "output_type": "stream",
       "stream": "stdout",
       "text": [
        "End Cycle: num contigs/total size/N50/max size = 323 / 37450 / 119 / 965\r\n",
        "\r\n",
        "****** CYCLE 5 ****** \r\n",
        "Msg: num contigs leftover: 323\r\n",
        "Percent of reads (out of 0) mapped: 0\r\n",
        "Num. reads filtered: 0\r\n",
        "Percent of reads (out of 0) mapped: 0\r\n",
        "Num. reads filtered: 0\r\n",
        "Percent of jobs (out of 323) done: 0\b1\b2\b3\b4\b5\b6\b7\b8\b9\b10\b\b11\b\b12\b\b13\b\b14\b\b15\b\b16\b\b17\b\b18\b\b19\b\b20\b\b21\b\b22\b\b23\b\b24\b\b25\b\b26\b\b27\b\b28\b\b29\b\b30\b\b31\b\b32\b\b33\b\b34\b\b35\b\b36\b\b37\b\b38\b\b39\b\b40\b\b41\b\b42\b\b43\b\b44\b\b45\b\b46\b\b47\b\b48\b\b49\b\b50\b\b51\b\b52\b\b53\b\b54\b\b55\b\b56\b\b57\b\b58\b\b59\b\b60\b\b61\b\b62\b\b63\b\b64\b\b65\b\b66\b\b67\b\b68\b\b69\b\b70\b\b71\b\b72\b\b73\b\b74\b\b75\b\b76\b\b77\b\b78\b\b79\b\b80\b\b81\b\b82\b\b83\b\b84\b\b85\b\b86\b\b87\b\b88\b\b89\b\b90\b\b91\b\b92\b\b93\b\b94\b\b95\b\b96\b\b97\b\b98\b\b99\b\b100\r\n",
        "meta-assembly of 323 contigs... "
       ]
      },
      {
       "output_type": "stream",
       "stream": "stdout",
       "text": [
        "collapsed into 323 contigs.\r\n",
        "End Cycle: num contigs/total size/N50/max size = 323 / 37450 / 119 / 965\r\n",
        "\r\n",
        "****** CYCLE 6 ****** \r\n",
        "Msg: num contigs leftover: 323\r\n",
        "Percent of reads (out of 0) mapped: 0\r\n",
        "Num. reads filtered: 0\r\n",
        "Percent of reads (out of 0) mapped: 0\r\n",
        "Num. reads filtered: 0\r\n",
        "Percent of jobs (out of 323) done: 0\b1\b2\b3\b4\b5\b6\b7\b8\b9\b10\b\b11\b\b12\b\b13\b\b14\b\b15\b\b16\b\b17\b\b18\b\b19\b\b20\b\b21\b\b22\b\b23\b\b24\b\b25\b\b26\b\b27\b\b28\b\b29\b\b30\b\b31\b\b32\b\b33\b\b34\b\b35\b\b36\b\b37\b\b38\b\b39\b\b40\b\b41\b\b42\b\b43\b\b44\b\b45\b\b46\b\b47\b\b48\b\b49\b\b50\b\b51\b\b52\b\b53\b\b54\b\b55\b\b56\b\b57\b\b58\b\b59\b\b60\b\b61\b\b62\b\b63\b\b64\b\b65\b\b66\b\b67\b\b68\b\b69\b\b70\b\b71\b\b72\b\b73\b\b74\b\b75\b\b76\b\b77\b\b78\b\b79\b\b80\b\b81\b\b82\b\b83\b\b84\b\b85\b\b86\b\b87\b\b88\b\b89\b\b90\b\b91\b\b92\b\b93\b\b94\b\b95\b\b96\b\b97\b\b98\b\b99\b\b100\r\n",
        "meta-assembly of 323 contigs... "
       ]
      },
      {
       "output_type": "stream",
       "stream": "stdout",
       "text": [
        "collapsed into 323 contigs.\r\n",
        "End Cycle: num contigs/total size/N50/max size = 323 / 37450 / 119 / 965\r\n",
        "\r\n",
        "****** CYCLE 7 ****** \r\n",
        "Msg: num contigs leftover: 323\r\n",
        "Percent of reads (out of 0) mapped: 0\r\n",
        "Num. reads filtered: 0\r\n",
        "Percent of reads (out of 0) mapped: 0\r\n",
        "Num. reads filtered: 0\r\n",
        "Percent of jobs (out of 323) done: 0\b1\b2\b3\b4\b5\b6\b7\b8\b9\b10\b\b11\b\b12\b\b13\b\b14\b\b15\b\b16\b\b17\b\b18\b\b19\b\b20\b\b21\b\b22\b\b23\b\b24\b\b25\b\b26\b\b27\b\b28\b\b29\b\b30\b\b31\b\b32\b\b33\b\b34\b\b35\b\b36\b\b37\b\b38\b\b39\b\b40\b\b41\b\b42\b\b43\b\b44\b\b45\b\b46\b\b47\b\b48\b\b49\b\b50\b\b51\b\b52\b\b53\b\b54\b\b55\b\b56\b\b57\b\b58\b\b59\b\b60\b\b61\b\b62\b\b63\b\b64\b\b65\b\b66\b\b67\b\b68\b\b69\b\b70\b\b71\b\b72\b\b73\b\b74\b\b75\b\b76\b\b77\b\b78\b\b79\b\b80\b\b81\b\b82\b\b83\b\b84\b\b85\b\b86\b\b87\b\b88\b\b89\b\b90\b\b91\b\b92\b\b93\b\b94\b\b95\b\b96\b\b97\b\b98\b\b99\b\b100\r\n",
        "meta-assembly of 323 contigs... "
       ]
      },
      {
       "output_type": "stream",
       "stream": "stdout",
       "text": [
        "collapsed into 323 contigs.\r\n",
        "End Cycle: num contigs/total size/N50/max size = 323 / 37450 / 119 / 965\r\n",
        "\r\n",
        "****** CYCLE 8 ****** \r\n",
        "Msg: num contigs leftover: 323\r\n",
        "Percent of reads (out of 0) mapped: 0\r\n",
        "Num. reads filtered: 0\r\n",
        "Percent of reads (out of 0) mapped: 0\r\n",
        "Num. reads filtered: 0\r\n",
        "Percent of jobs (out of 323) done: 0\b1\b2\b3\b4\b5\b6\b7\b8\b9\b10\b\b11\b\b12\b\b13\b\b14\b\b15\b\b16\b\b17\b\b18\b\b19\b\b20\b\b21\b\b22\b\b23\b\b24\b\b25\b\b26\b\b27\b\b28\b\b29\b\b30\b\b31\b\b32\b\b33\b\b34\b\b35\b\b36\b\b37\b\b38\b\b39\b\b40\b\b41\b\b42\b\b43\b\b44\b\b45\b\b46\b\b47\b\b48\b\b49\b\b50\b\b51\b\b52\b\b53\b\b54\b\b55\b\b56\b\b57\b\b58\b\b59\b\b60\b\b61\b\b62\b\b63\b\b64\b\b65\b\b66\b\b67\b\b68\b\b69\b\b70\b\b71\b\b72\b\b73\b\b74\b\b75\b\b76\b\b77\b\b78\b\b79\b\b80\b\b81\b\b82\b\b83\b\b84\b\b85\b\b86\b\b87\b\b88\b\b89\b\b90\b\b91\b\b92\b\b93\b\b94\b\b95\b\b96\b\b97\b\b98\b\b99\b\b100\r\n",
        "meta-assembly of 323 contigs... "
       ]
      },
      {
       "output_type": "stream",
       "stream": "stdout",
       "text": [
        "collapsed into 323 contigs.\r\n",
        "End Cycle: num contigs/total size/N50/max size = 323 / 37450 / 119 / 965\r\n",
        "\r\n",
        "****** CYCLE 9 ****** \r\n",
        "Msg: num contigs leftover: 323\r\n",
        "Percent of reads (out of 0) mapped: 0\r\n",
        "Num. reads filtered: 0\r\n",
        "Percent of reads (out of 0) mapped: 0\r\n",
        "Num. reads filtered: 0\r\n",
        "Percent of jobs (out of 323) done: 0\b1\b2\b3\b4\b5\b6\b7\b8\b9\b10\b\b11\b\b12\b\b13\b\b14\b\b15\b\b16\b\b17\b\b18\b\b19\b\b20\b\b21\b\b22\b\b23\b\b24\b\b25\b\b26\b\b27\b\b28\b\b29\b\b30\b\b31\b\b32\b\b33\b\b34\b\b35\b\b36\b\b37\b\b38\b\b39\b\b40\b\b41\b\b42\b\b43\b\b44\b\b45\b\b46\b\b47\b\b48\b\b49\b\b50\b\b51\b\b52\b\b53\b\b54\b\b55\b\b56\b\b57\b\b58\b\b59\b\b60\b\b61\b\b62\b\b63\b\b64\b\b65\b\b66\b\b67\b\b68\b\b69\b\b70\b\b71\b\b72\b\b73\b\b74\b\b75\b\b76\b\b77\b\b78\b\b79\b\b80\b\b81\b\b82\b\b83\b\b84\b\b85\b\b86\b\b87\b\b88\b\b89\b\b90\b\b91\b\b92\b\b93\b\b94\b\b95\b\b96\b\b97\b\b98\b\b99\b\b100\r\n",
        "meta-assembly of 323 contigs... "
       ]
      },
      {
       "output_type": "stream",
       "stream": "stdout",
       "text": [
        "collapsed into 323 contigs.\r\n",
        "End Cycle: num contigs/total size/N50/max size = 323 / 37450 / 119 / 965\r\n",
        "\r\n",
        "****** CYCLE 10 ****** \r\n",
        "Msg: num contigs leftover: 323\r\n",
        "Percent of reads (out of 0) mapped: 0\r\n",
        "Num. reads filtered: 0\r\n",
        "Percent of reads (out of 0) mapped: 0\r\n",
        "Num. reads filtered: 0\r\n",
        "Percent of jobs (out of 323) done: 0\b1\b2\b3\b4\b5\b6\b7\b8\b9\b10\b\b11\b\b12\b\b13\b\b14\b\b15\b\b16\b\b17\b\b18\b\b19\b\b20\b\b21\b\b22\b\b23\b\b24\b\b25\b\b26\b\b27\b\b28\b\b29\b\b30\b\b31\b\b32\b\b33\b\b34\b\b35\b\b36\b\b37\b\b38\b\b39\b\b40\b\b41\b\b42\b\b43\b\b44\b\b45\b\b46\b\b47\b\b48\b\b49\b\b50\b\b51\b\b52\b\b53\b\b54\b\b55\b\b56\b\b57\b\b58\b\b59\b\b60\b\b61\b\b62\b\b63\b\b64\b\b65\b\b66\b\b67\b\b68\b\b69\b\b70\b\b71\b\b72\b\b73\b\b74\b\b75\b\b76\b\b77\b\b78\b\b79\b\b80\b\b81\b\b82\b\b83\b\b84"
       ]
      },
      {
       "output_type": "stream",
       "stream": "stdout",
       "text": [
        "\b\b85\b\b86\b\b87\b\b88\b\b89\b\b90\b\b91\b\b92\b\b93\b\b94\b\b95\b\b96\b\b97\b\b98\b\b99\b\b100\r\n",
        "meta-assembly of 323 contigs... "
       ]
      },
      {
       "output_type": "stream",
       "stream": "stdout",
       "text": [
        "collapsed into 323 contigs.\r\n",
        "End Cycle: num contigs/total size/N50/max size = 323 / 37450 / 119 / 965\r\n",
        "\r\n",
        "****** CYCLE 11 ****** \r\n",
        "Collected new initial contigs: num contigs/total size/N50/max size = 357 / 40808 / 137 / 786\r\n",
        "Adding initial contigs: num contigs/total size/N50/max size = 680 / 78258 / 126 / 965\r\n"
       ]
      },
      {
       "output_type": "stream",
       "stream": "stdout",
       "text": [
        "Added initial contigs: num contigs/total size/N50/max size = 580 / 70978 / 140 / 965\r\n"
       ]
      },
      {
       "output_type": "stream",
       "stream": "stdout",
       "text": [
        "Msg: num contigs leftover: 265\r\n",
        "Percent of reads (out of 0) mapped: 0\r\n",
        "Num. reads filtered: 0\r\n",
        "Percent of reads (out of 0) mapped: 0\r\n",
        "Num. reads filtered: 0\r\n",
        "Percent of jobs (out of 580) done: 0\b1\b2\b3\b4\b5\b6\b7\b8\b9\b10\b\b11\b\b12\b\b13\b\b14\b\b15\b\b16\b\b17\b\b18\b\b19\b\b20\b\b21\b\b22\b\b23\b\b24\b\b25\b\b26\b\b27\b\b28\b\b29\b\b30\b\b31\b\b32\b\b33\b\b34\b\b35\b\b36\b\b37\b\b38\b\b39\b\b40\b\b41\b\b42\b\b43\b\b44\b\b45\b\b46\b\b47\b\b48\b\b49\b\b50\b\b51\b\b52\b\b53\b\b54\b\b55\b\b56\b\b57\b\b58\b\b59\b\b60\b\b61\b\b62\b\b63\b\b64\b\b65\b\b66\b\b67\b\b68\b\b69\b\b70\b\b71\b\b72\b\b73\b\b74\b\b75\b\b76\b\b77\b\b78\b\b79\b\b80\b\b81\b\b82\b\b83\b\b84\b\b85\b\b86\b\b87\b\b88\b\b89\b\b90\b\b91\b\b92\b\b93\b\b94\b\b95\b\b96\b\b97\b\b98\b\b99\b\b100\r\n",
        "meta-assembly of 580 contigs... "
       ]
      },
      {
       "output_type": "stream",
       "stream": "stdout",
       "text": [
        "collapsed into 580 contigs.\r\n",
        "End Cycle: num contigs/total size/N50/max size = 580 / 70978 / 140 / 965\r\n",
        "\r\n",
        "****** CYCLE 12 ****** \r\n",
        "Msg: num contigs leftover: 580\r\n",
        "Percent of reads (out of 0) mapped: 0\r\n",
        "Num. reads filtered: 0\r\n",
        "Percent of reads (out of 0) mapped: 0\r\n",
        "Num. reads filtered: 0\r\n",
        "Percent of jobs (out of 580) done: 0\b1\b2\b3\b4\b5\b6\b7\b8\b9\b10\b\b11\b\b12\b\b13\b\b14\b\b15\b\b16\b\b17\b\b18\b\b19\b\b20\b\b21\b\b22\b\b23\b\b24\b\b25\b\b26\b\b27\b\b28\b\b29\b\b30\b\b31\b\b32\b\b33\b\b34\b\b35\b\b36\b\b37\b\b38\b\b39\b\b40\b\b41\b\b42\b\b43\b\b44\b\b45\b\b46\b\b47\b\b48\b\b49\b\b50\b\b51\b\b52\b\b53\b\b54\b\b55\b\b56\b\b57\b\b58\b\b59\b\b60\b\b61\b\b62\b\b63\b\b64\b\b65\b\b66\b\b67\b\b68\b\b69\b\b70\b\b71\b\b72\b\b73\b\b74\b\b75\b\b76\b\b77\b\b78\b\b79\b\b80\b\b81\b\b82\b\b83\b\b84\b\b85\b\b86\b\b87\b\b88\b\b89\b\b90\b\b91\b\b92\b\b93\b\b94\b\b95\b\b96\b\b97\b\b98\b\b99\b\b100\r\n",
        "meta-assembly of 580 contigs... "
       ]
      },
      {
       "output_type": "stream",
       "stream": "stdout",
       "text": [
        "collapsed into 580 contigs.\r\n",
        "End Cycle: num contigs/total size/N50/max size = 580 / 70978 / 140 / 965\r\n",
        "\r\n",
        "****** CYCLE 13 ****** \r\n",
        "Msg: num contigs leftover: 580\r\n",
        "Percent of reads (out of 0) mapped: 0\r\n",
        "Num. reads filtered: 0\r\n",
        "Percent of reads (out of 0) mapped: 0\r\n",
        "Num. reads filtered: 0\r\n",
        "Percent of jobs (out of 580) done: 0\b1\b2\b3\b4\b5\b6\b7\b8\b9\b10\b\b11\b\b12\b\b13\b\b14\b\b15\b\b16\b\b17\b\b18\b\b19\b\b20\b\b21\b\b22\b\b23\b\b24\b\b25\b\b26\b\b27\b\b28\b\b29\b\b30\b\b31\b\b32\b\b33\b\b34\b\b35\b\b36\b\b37\b\b38\b\b39\b\b40\b\b41\b\b42\b\b43\b\b44\b\b45\b\b46\b\b47\b\b48\b\b49\b\b50\b\b51\b\b52\b\b53\b\b54\b\b55\b\b56\b\b57\b\b58\b\b59\b\b60\b\b61\b\b62\b\b63\b\b64\b\b65\b\b66\b\b67\b\b68\b\b69\b\b70\b\b71\b\b72\b\b73\b\b74\b\b75\b\b76\b\b77\b\b78\b\b79\b\b80\b\b81\b\b82\b\b83\b\b84\b\b85\b\b86\b\b87\b\b88\b\b89\b\b90\b\b91\b\b92\b\b93\b\b94\b\b95\b\b96\b\b97\b\b98\b\b99\b\b100\r\n",
        "meta-assembly of 580 contigs... "
       ]
      },
      {
       "output_type": "stream",
       "stream": "stdout",
       "text": [
        "collapsed into 580 contigs.\r\n",
        "End Cycle: num contigs/total size/N50/max size = 580 / 70978 / 140 / 965\r\n",
        "\r\n",
        "****** CYCLE 14 ****** \r\n",
        "Msg: num contigs leftover: 580\r\n",
        "Percent of reads (out of 0) mapped: 0\r\n",
        "Num. reads filtered: 0\r\n",
        "Percent of reads (out of 0) mapped: 0\r\n",
        "Num. reads filtered: 0\r\n"
       ]
      },
      {
       "output_type": "stream",
       "stream": "stdout",
       "text": [
        "Percent of jobs (out of 580) done: 0\b1\b2\b3\b4\b5\b6\b7\b8\b9\b10\b\b11\b\b12\b\b13\b\b14\b\b15\b\b16\b\b17\b\b18\b\b19\b\b20\b\b21\b\b22\b\b23\b\b24\b\b25\b\b26\b\b27\b\b28\b\b29\b\b30\b\b31\b\b32\b\b33\b\b34\b\b35\b\b36\b\b37\b\b38\b\b39\b\b40\b\b41\b\b42\b\b43\b\b44\b\b45\b\b46\b\b47\b\b48\b\b49\b\b50\b\b51\b\b52\b\b53\b\b54\b\b55\b\b56\b\b57\b\b58\b\b59\b\b60\b\b61\b\b62\b\b63\b\b64\b\b65\b\b66\b\b67\b\b68\b\b69\b\b70\b\b71\b\b72\b\b73\b\b74\b\b75\b\b76\b\b77\b\b78\b\b79\b\b80\b\b81\b\b82\b\b83\b\b84\b\b85\b\b86\b\b87\b\b88\b\b89\b\b90\b\b91\b\b92\b\b93\b\b94\b\b95\b\b96\b\b97\b\b98\b\b99\b\b100\r\n",
        "meta-assembly of 580 contigs... "
       ]
      },
      {
       "output_type": "stream",
       "stream": "stdout",
       "text": [
        "collapsed into 580 contigs.\r\n",
        "End Cycle: num contigs/total size/N50/max size = 580 / 70978 / 140 / 965\r\n",
        "\r\n",
        "****** CYCLE 15 ****** \r\n",
        "Msg: num contigs leftover: 580\r\n",
        "Percent of reads (out of 0) mapped: 0\r\n",
        "Num. reads filtered: 0\r\n",
        "Percent of reads (out of 0) mapped: 0\r\n",
        "Num. reads filtered: 0\r\n",
        "Percent of jobs (out of 580) done: 0\b1\b2\b3\b4\b5\b6\b7\b8\b9\b10\b\b11\b\b12\b\b13\b\b14\b\b15\b\b16\b\b17\b\b18\b\b19\b\b20\b\b21\b\b22\b\b23\b\b24\b\b25\b\b26\b\b27\b\b28\b\b29\b\b30\b\b31\b\b32\b\b33\b\b34\b\b35\b\b36\b\b37\b\b38\b\b39\b\b40\b\b41\b\b42\b\b43\b\b44\b\b45\b\b46\b\b47\b\b48\b\b49\b\b50\b\b51\b\b52\b\b53\b\b54\b\b55\b\b56\b\b57\b\b58\b\b59\b\b60\b\b61\b\b62\b\b63\b\b64\b\b65\b\b66\b\b67\b\b68\b\b69\b\b70\b\b71\b\b72\b\b73\b\b74\b\b75\b\b76\b\b77\b\b78\b\b79\b\b80\b\b81\b\b82\b\b83\b\b84\b\b85\b\b86\b\b87\b\b88\b\b89\b\b90\b\b91\b\b92\b\b93\b\b94\b\b95\b\b96\b\b97\b\b98\b\b99\b\b100\r\n",
        "meta-assembly of 580 contigs... "
       ]
      },
      {
       "output_type": "stream",
       "stream": "stdout",
       "text": [
        "collapsed into 580 contigs.\r\n",
        "End Cycle: num contigs/total size/N50/max size = 580 / 70978 / 140 / 965\r\n",
        "\r\n",
        "****** CYCLE 16 ****** \r\n",
        "Msg: num contigs leftover: 580\r\n",
        "Percent of reads (out of 0) mapped: 0\r\n",
        "Num. reads filtered: 0\r\n",
        "Percent of reads (out of 0) mapped: 0\r\n",
        "Num. reads filtered: 0\r\n",
        "Percent of jobs (out of 580) done: 0\b1\b2\b3\b4\b5\b6\b7\b8\b9\b10\b\b11\b\b12\b\b13\b\b14\b\b15\b\b16\b\b17\b\b18\b\b19\b\b20\b\b21\b\b22\b\b23\b\b24\b\b25\b\b26\b\b27\b\b28\b\b29\b\b30\b\b31\b\b32\b\b33\b\b34\b\b35\b\b36\b\b37\b\b38\b\b39\b\b40\b\b41\b\b42\b\b43\b\b44\b\b45\b\b46\b\b47\b\b48\b\b49\b\b50\b\b51\b\b52\b\b53\b\b54\b\b55\b\b56\b\b57\b\b58\b\b59\b\b60\b\b61\b\b62\b\b63\b\b64\b\b65\b\b66\b\b67\b\b68\b\b69\b\b70\b\b71\b\b72\b\b73\b\b74\b\b75\b\b76\b\b77\b\b78\b\b79\b\b80\b\b81\b\b82\b\b83\b\b84\b\b85\b\b86\b\b87\b\b88\b\b89\b\b90\b\b91\b\b92\b\b93\b\b94\b\b95\b\b96\b\b97\b\b98\b\b99\b\b100\r\n",
        "meta-assembly of 580 contigs... "
       ]
      },
      {
       "output_type": "stream",
       "stream": "stdout",
       "text": [
        "collapsed into 580 contigs.\r\n"
       ]
      },
      {
       "output_type": "stream",
       "stream": "stdout",
       "text": [
        "End Cycle: num contigs/total size/N50/max size = 580 / 70978 / 140 / 965\r\n",
        "\r\n",
        "****** CYCLE 17 ****** \r\n",
        "Msg: num contigs leftover: 580\r\n",
        "Percent of reads (out of 0) mapped: 0\r\n",
        "Num. reads filtered: 0\r\n",
        "Percent of reads (out of 0) mapped: 0\r\n",
        "Num. reads filtered: 0\r\n",
        "Percent of jobs (out of 580) done: 0\b1\b2\b3\b4\b5\b6\b7\b8\b9\b10\b\b11\b\b12\b\b13\b\b14\b\b15\b\b16\b\b17\b\b18\b\b19\b\b20\b\b21\b\b22\b\b23\b\b24\b\b25\b\b26\b\b27\b\b28\b\b29\b\b30\b\b31\b\b32\b\b33\b\b34\b\b35\b\b36\b\b37\b\b38\b\b39\b\b40\b\b41\b\b42\b\b43\b\b44\b\b45\b\b46\b\b47\b\b48\b\b49\b\b50\b\b51\b\b52\b\b53\b\b54\b\b55\b\b56\b\b57\b\b58\b\b59\b\b60\b\b61\b\b62\b\b63\b\b64\b\b65\b\b66\b\b67\b\b68\b\b69\b\b70\b\b71\b\b72\b\b73\b\b74\b\b75\b\b76\b\b77\b\b78\b\b79\b\b80\b\b81\b\b82\b\b83\b\b84\b\b85\b\b86\b\b87\b\b88\b\b89\b\b90\b\b91\b\b92\b\b93\b\b94\b\b95\b\b96\b\b97\b\b98\b\b99\b\b100\r\n",
        "meta-assembly of 580 contigs... "
       ]
      },
      {
       "output_type": "stream",
       "stream": "stdout",
       "text": [
        "collapsed into 580 contigs.\r\n",
        "End Cycle: num contigs/total size/N50/max size = 580 / 70978 / 140 / 965\r\n",
        "\r\n",
        "****** CYCLE 18 ****** \r\n",
        "Msg: num contigs leftover: 580\r\n",
        "Percent of reads (out of 0) mapped: 0\r\n",
        "Num. reads filtered: 0\r\n",
        "Percent of reads (out of 0) mapped: 0\r\n",
        "Num. reads filtered: 0\r\n",
        "Percent of jobs (out of 580) done: 0\b1\b2\b3\b4\b5\b6\b7\b8\b9\b10\b\b11\b\b12\b\b13\b\b14\b\b15\b\b16\b\b17\b\b18\b\b19\b\b20\b\b21\b\b22\b\b23\b\b24\b\b25\b\b26\b\b27\b\b28\b\b29\b\b30\b\b31\b\b32\b\b33\b\b34\b\b35\b\b36\b\b37\b\b38\b\b39\b\b40\b\b41\b\b42\b\b43\b\b44\b\b45\b\b46\b\b47\b\b48\b\b49\b\b50\b\b51\b\b52\b\b53\b\b54\b\b55\b\b56\b\b57\b\b58\b\b59\b\b60\b\b61\b\b62\b\b63\b\b64\b\b65\b\b66\b\b67\b\b68\b\b69\b\b70\b\b71\b\b72\b\b73\b\b74\b\b75\b\b76\b\b77\b\b78\b\b79\b\b80\b\b81\b\b82\b\b83\b\b84\b\b85\b\b86\b\b87\b\b88\b\b89\b\b90\b\b91\b\b92\b\b93\b\b94\b\b95\b\b96\b\b97\b\b98\b\b99\b\b100\r\n",
        "meta-assembly of 580 contigs... "
       ]
      },
      {
       "output_type": "stream",
       "stream": "stdout",
       "text": [
        "collapsed into 580 contigs.\r\n",
        "End Cycle: num contigs/total size/N50/max size = 580 / 70978 / 140 / 965\r\n",
        "\r\n",
        "****** CYCLE 19 ****** \r\n",
        "Msg: num contigs leftover: 580\r\n",
        "Percent of reads (out of 0) mapped: 0\r\n",
        "Num. reads filtered: 0\r\n",
        "Percent of reads (out of 0) mapped: 0\r\n",
        "Num. reads filtered: 0\r\n",
        "Percent of jobs (out of 580) done: 0\b1\b2\b3\b4\b5\b6\b7\b8\b9\b10\b\b11\b\b12\b\b13\b\b14\b\b15\b\b16\b\b17\b\b18\b\b19\b\b20\b\b21\b\b22\b\b23\b\b24\b\b25\b\b26\b\b27\b\b28\b\b29\b\b30\b\b31\b\b32\b\b33\b\b34\b\b35\b\b36\b\b37\b\b38\b\b39\b\b40\b\b41\b\b42\b\b43\b\b44\b\b45"
       ]
      },
      {
       "output_type": "stream",
       "stream": "stdout",
       "text": [
        "\b\b46\b\b47\b\b48\b\b49\b\b50\b\b51\b\b52\b\b53\b\b54\b\b55\b\b56\b\b57\b\b58\b\b59\b\b60\b\b61\b\b62\b\b63\b\b64\b\b65\b\b66\b\b67\b\b68\b\b69\b\b70\b\b71\b\b72\b\b73\b\b74\b\b75\b\b76\b\b77\b\b78\b\b79\b\b80\b\b81\b\b82\b\b83\b\b84\b\b85\b\b86\b\b87\b\b88\b\b89\b\b90\b\b91\b\b92\b\b93\b\b94\b\b95\b\b96\b\b97\b\b98\b\b99\b\b100\r\n",
        "meta-assembly of 580 contigs... "
       ]
      },
      {
       "output_type": "stream",
       "stream": "stdout",
       "text": [
        "collapsed into 580 contigs.\r\n",
        "End Cycle: num contigs/total size/N50/max size = 580 / 70978 / 140 / 965\r\n",
        "\r\n",
        "****** CYCLE 20 ****** \r\n",
        "Msg: num contigs leftover: 580\r\n",
        "Percent of reads (out of 0) mapped: 0\r\n",
        "Num. reads filtered: 0\r\n",
        "Percent of reads (out of 0) mapped: 0\r\n",
        "Num. reads filtered: 0\r\n",
        "Percent of jobs (out of 580) done: 0\b1\b2\b3\b4\b5\b6\b7\b8\b9\b10\b\b11\b\b12\b\b13\b\b14\b\b15\b\b16\b\b17\b\b18\b\b19\b\b20\b\b21\b\b22\b\b23\b\b24\b\b25\b\b26\b\b27\b\b28\b\b29\b\b30\b\b31\b\b32\b\b33\b\b34\b\b35\b\b36\b\b37\b\b38\b\b39\b\b40\b\b41\b\b42\b\b43\b\b44\b\b45\b\b46\b\b47\b\b48\b\b49\b\b50\b\b51\b\b52\b\b53\b\b54\b\b55\b\b56\b\b57\b\b58\b\b59\b\b60\b\b61\b\b62\b\b63\b\b64\b\b65\b\b66\b\b67\b\b68\b\b69\b\b70\b\b71\b\b72\b\b73\b\b74\b\b75\b\b76\b\b77\b\b78\b\b79\b\b80\b\b81\b\b82\b\b83\b\b84\b\b85\b\b86\b\b87\b\b88\b\b89\b\b90\b\b91\b\b92\b\b93\b\b94\b\b95\b\b96\b\b97\b\b98\b\b99\b\b100\r\n",
        "meta-assembly of 580 contigs... "
       ]
      },
      {
       "output_type": "stream",
       "stream": "stdout",
       "text": [
        "collapsed into 580 contigs.\r\n",
        "End Cycle: num contigs/total size/N50/max size = 580 / 70978 / 140 / 965\r\n",
        "\r\n",
        "****** CYCLE 21 ****** \r\n",
        "Collected new initial contigs: num contigs/total size/N50/max size = 357 / 38683 / 126 / 953\r\n",
        "Adding initial contigs: num contigs/total size/N50/max size = 937 / 109661 / 133 / 965\r\n"
       ]
      },
      {
       "output_type": "stream",
       "stream": "stdout",
       "text": [
        "Added initial contigs: num contigs/total size/N50/max size = 806 / 100908 / 150 / 965\r\n",
        "Msg: num contigs leftover: 504\r\n",
        "Percent of reads (out of 0) mapped: 0\r\n",
        "Num. reads filtered: 0\r\n",
        "Percent of reads (out of 0) mapped: 0\r\n",
        "Num. reads filtered: 0\r\n",
        "Percent of jobs (out of 806) done: 0\b1\b2\b3\b4\b5\b6\b7\b8\b9\b10\b\b11\b\b12\b\b13\b\b14\b\b15\b\b16\b\b17\b\b18\b\b19\b\b20\b\b21\b\b22\b\b23\b\b24\b\b25\b\b26\b\b27\b\b28\b\b29\b\b30\b\b31\b\b32\b\b33\b\b34\b\b35\b\b36\b\b37\b\b38\b\b39\b\b40\b\b41\b\b42\b\b43\b\b44\b\b45\b\b46\b\b47\b\b48\b\b49\b\b50\b\b51\b\b52\b\b53\b\b54\b\b55\b\b56\b\b57\b\b58\b\b59\b\b60\b\b61\b\b62\b\b63\b\b64\b\b65\b\b66\b\b67\b\b68\b\b69\b\b70\b\b71\b\b72\b\b73\b\b74\b\b75\b\b76\b\b77\b\b78\b\b79\b\b80\b\b81\b\b82\b\b83\b\b84\b\b85\b\b86\b\b87\b\b88\b\b89\b\b90\b\b91\b\b92\b\b93\b\b94\b\b95\b\b96\b\b97\b\b98\b\b99\b\b100\r\n",
        "meta-assembly of 806 contigs... "
       ]
      },
      {
       "output_type": "stream",
       "stream": "stdout",
       "text": [
        "collapsed into 806 contigs.\r\n",
        "End Cycle: num contigs/total size/N50/max size = 806 / 100908 / 150 / 965\r\n",
        "\r\n",
        "****** CYCLE 22 ****** \r\n",
        "Msg: num contigs leftover: 806\r\n",
        "Percent of reads (out of 0) mapped: 0\r\n",
        "Num. reads filtered: 0\r\n",
        "Percent of reads (out of 0) mapped: 0\r\n",
        "Num. reads filtered: 0\r\n",
        "Percent of jobs (out of 806) done: 0\b1\b2\b3\b4\b5\b6\b7\b8\b9\b10\b\b11\b\b12\b\b13\b\b14\b\b15\b\b16\b\b17\b\b18\b\b19\b\b20\b\b21\b\b22\b\b23\b\b24\b\b25\b\b26\b\b27\b\b28\b\b29\b\b30\b\b31\b\b32\b\b33\b\b34\b\b35\b\b36\b\b37\b\b38\b\b39\b\b40\b\b41\b\b42\b\b43\b\b44\b\b45\b\b46\b\b47\b\b48\b\b49\b\b50\b\b51\b\b52\b\b53\b\b54\b\b55\b\b56\b\b57\b\b58\b\b59\b\b60\b\b61\b\b62\b\b63\b\b64\b\b65\b\b66\b\b67\b\b68\b\b69\b\b70\b\b71\b\b72\b\b73\b\b74\b\b75\b\b76\b\b77\b\b78\b\b79\b\b80\b\b81\b\b82\b\b83\b\b84\b\b85\b\b86\b\b87\b\b88\b\b89\b\b90\b\b91\b\b92\b\b93\b\b94\b\b95\b\b96\b\b97\b\b98\b\b99\b\b100\r\n",
        "meta-assembly of 806 contigs... "
       ]
      },
      {
       "output_type": "stream",
       "stream": "stdout",
       "text": [
        "collapsed into 806 contigs.\r\n",
        "End Cycle: num contigs/total size/N50/max size = 806 / 100908 / 150 / 965\r\n",
        "\r\n",
        "****** CYCLE 23 ****** \r\n",
        "Msg: num contigs leftover: 806\r\n",
        "Percent of reads (out of 0) mapped: 0\r\n",
        "Num. reads filtered: 0\r\n",
        "Percent of reads (out of 0) mapped: 0\r\n",
        "Num. reads filtered: 0\r\n",
        "Percent of jobs (out of 806) done: 0\b1\b2\b3\b4\b5\b6\b7\b8\b9\b10\b\b11\b\b12\b\b13\b\b14\b\b15\b\b16\b\b17\b\b18\b\b19\b\b20\b\b21\b\b22\b\b23\b\b24\b\b25\b\b26\b\b27\b\b28\b\b29\b\b30\b\b31\b\b32\b\b33\b\b34\b\b35\b\b36\b\b37\b\b38\b\b39\b\b40\b\b41\b\b42\b\b43\b\b44\b\b45\b\b46\b\b47\b\b48\b\b49\b\b50\b\b51\b\b52\b\b53\b\b54\b\b55\b\b56\b\b57\b\b58\b\b59\b\b60\b\b61\b\b62\b\b63\b\b64\b\b65\b\b66\b\b67\b\b68\b\b69\b\b70\b\b71\b\b72\b\b73\b\b74\b\b75\b\b76\b\b77\b\b78\b\b79\b\b80\b\b81\b\b82\b\b83\b\b84\b\b85\b\b86\b\b87\b\b88\b\b89\b\b90\b\b91\b\b92\b\b93\b\b94\b\b95\b\b96\b\b97\b\b98\b\b99\b\b100\r\n",
        "meta-assembly of 806 contigs... "
       ]
      },
      {
       "output_type": "stream",
       "stream": "stdout",
       "text": [
        "collapsed into 806 contigs.\r\n",
        "End Cycle: num contigs/total size/N50/max size = 806 / 100908 / 150 / 965\r\n",
        "\r\n",
        "****** CYCLE 24 ****** \r\n",
        "Msg: num contigs leftover: 806\r\n",
        "Percent of reads (out of 0) mapped: 0\r\n",
        "Num. reads filtered: 0\r\n",
        "Percent of reads (out of 0) mapped: 0\r\n",
        "Num. reads filtered: 0\r\n",
        "Percent of jobs (out of 806) done: 0\b1\b2\b3\b4\b5\b6\b7\b8\b9\b10\b\b11\b\b12\b\b13\b\b14\b\b15\b\b16\b\b17\b\b18\b\b19\b\b20\b\b21\b\b22\b\b23\b\b24\b\b25\b\b26\b\b27\b\b28\b\b29\b\b30\b\b31\b\b32\b\b33\b\b34\b\b35\b\b36\b\b37\b\b38\b\b39\b\b40\b\b41\b\b42\b\b43\b\b44\b\b45\b\b46\b\b47\b\b48\b\b49\b\b50\b\b51\b\b52\b\b53\b\b54\b\b55\b\b56\b\b57\b\b58\b\b59\b\b60\b\b61\b\b62\b\b63\b\b64\b\b65\b\b66\b\b67\b\b68\b\b69\b\b70\b\b71\b\b72\b\b73\b\b74\b\b75\b\b76\b\b77\b\b78\b\b79\b\b80\b\b81\b\b82\b\b83\b\b84\b\b85\b\b86\b\b87\b\b88\b\b89\b\b90\b\b91\b\b92\b\b93\b\b94\b\b95\b\b96\b\b97\b\b98\b\b99\b\b100\r\n",
        "meta-assembly of 806 contigs... "
       ]
      },
      {
       "output_type": "stream",
       "stream": "stdout",
       "text": [
        "collapsed into 806 contigs.\r\n",
        "End Cycle: num contigs/total size/N50/max size = 806 / 100908 / 150 / 965\r\n",
        "\r\n",
        "****** CYCLE 25 ****** \r\n",
        "Msg: num contigs leftover: 806\r\n",
        "Percent of reads (out of 0) mapped: 0\r\n",
        "Num. reads filtered: 0\r\n",
        "Percent of reads (out of 0) mapped: 0\r\n",
        "Num. reads filtered: 0\r\n",
        "Percent of jobs (out of 806) done: 0\b1\b2\b3\b4\b5\b6\b7\b8\b9\b10\b\b11\b\b12\b\b13\b\b14\b\b15\b\b16\b\b17\b\b18\b\b19\b\b20\b\b21\b\b22\b\b23\b\b24\b\b25\b\b26\b\b27\b\b28\b\b29\b\b30\b\b31\b\b32\b\b33\b\b34\b\b35\b\b36\b\b37\b\b38\b\b39\b\b40\b\b41\b\b42\b\b43\b\b44\b\b45\b\b46\b\b47\b\b48\b\b49\b\b50\b\b51\b\b52\b\b53\b\b54\b\b55\b\b56\b\b57\b\b58\b\b59\b\b60\b\b61\b\b62\b\b63\b\b64\b\b65\b\b66\b\b67\b\b68\b\b69\b\b70\b\b71\b\b72\b\b73\b\b74\b\b75\b\b76\b\b77\b\b78\b\b79\b\b80\b\b81\b\b82\b\b83\b\b84\b\b85\b\b86\b\b87\b\b88\b\b89\b\b90\b\b91\b\b92\b\b93\b\b94\b\b95\b\b96\b\b97\b\b98\b\b99\b\b100\r\n",
        "meta-assembly of 806 contigs... "
       ]
      },
      {
       "output_type": "stream",
       "stream": "stdout",
       "text": [
        "collapsed into 806 contigs.\r\n",
        "End Cycle: num contigs/total size/N50/max size = 806 / 100908 / 150 / 965\r\n",
        "\r\n",
        "****** CYCLE 26 ****** \r\n",
        "Msg: num contigs leftover: 806\r\n",
        "Percent of reads (out of 0) mapped: 0\r\n",
        "Num. reads filtered: 0\r\n",
        "Percent of reads (out of 0) mapped: 0\r\n",
        "Num. reads filtered: 0\r\n",
        "Percent of jobs (out of 806) done: 0\b1\b2\b3\b4\b5\b6\b7\b8\b9\b10\b\b11\b\b12\b\b13\b\b14\b\b15\b\b16\b\b17\b\b18\b\b19\b\b20\b\b21\b\b22\b\b23\b\b24\b\b25\b\b26\b\b27\b\b28\b\b29\b\b30\b\b31\b\b32\b\b33\b\b34\b\b35\b\b36\b\b37\b\b38\b\b39\b\b40\b\b41\b\b42\b\b43\b\b44\b\b45\b\b46\b\b47\b\b48\b\b49\b\b50\b\b51\b\b52\b\b53\b\b54\b\b55\b\b56\b\b57\b\b58\b\b59\b\b60\b\b61\b\b62\b\b63\b\b64\b\b65\b\b66\b\b67\b\b68\b\b69\b\b70\b\b71\b\b72\b\b73\b\b74\b\b75\b\b76\b\b77\b\b78\b\b79\b\b80\b\b81\b\b82\b\b83\b\b84\b\b85\b\b86\b\b87\b\b88\b\b89\b\b90\b\b91\b\b92\b\b93\b\b94\b\b95\b\b96\b\b97\b\b98\b\b99\b\b100\r\n",
        "meta-assembly of 806 contigs... "
       ]
      },
      {
       "output_type": "stream",
       "stream": "stdout",
       "text": [
        "collapsed into 806 contigs.\r\n",
        "End Cycle: num contigs/total size/N50/max size = 806 / 100908 / 150 / 965\r\n",
        "\r\n",
        "****** CYCLE 27 ****** \r\n"
       ]
      },
      {
       "output_type": "stream",
       "stream": "stdout",
       "text": [
        "Msg: num contigs leftover: 806\r\n",
        "Percent of reads (out of 0) mapped: 0\r\n",
        "Num. reads filtered: 0\r\n",
        "Percent of reads (out of 0) mapped: 0\r\n",
        "Num. reads filtered: 0\r\n",
        "Percent of jobs (out of 806) done: 0\b1\b2\b3\b4\b5\b6\b7\b8\b9\b10\b\b11\b\b12\b\b13\b\b14\b\b15\b\b16\b\b17\b\b18\b\b19\b\b20\b\b21\b\b22\b\b23\b\b24\b\b25\b\b26\b\b27\b\b28\b\b29\b\b30\b\b31\b\b32\b\b33\b\b34\b\b35\b\b36\b\b37\b\b38\b\b39\b\b40\b\b41\b\b42\b\b43\b\b44\b\b45\b\b46\b\b47\b\b48\b\b49\b\b50\b\b51\b\b52\b\b53\b\b54\b\b55\b\b56\b\b57\b\b58\b\b59\b\b60\b\b61\b\b62\b\b63\b\b64\b\b65\b\b66\b\b67\b\b68\b\b69\b\b70\b\b71\b\b72\b\b73\b\b74\b\b75\b\b76\b\b77\b\b78\b\b79\b\b80\b\b81\b\b82\b\b83\b\b84\b\b85\b\b86\b\b87\b\b88\b\b89\b\b90\b\b91\b\b92\b\b93\b\b94\b\b95\b\b96\b\b97\b\b98\b\b99\b\b100\r\n",
        "meta-assembly of 806 contigs... "
       ]
      },
      {
       "output_type": "stream",
       "stream": "stdout",
       "text": [
        "collapsed into 806 contigs.\r\n",
        "End Cycle: num contigs/total size/N50/max size = 806 / 100908 / 150 / 965\r\n",
        "\r\n",
        "****** CYCLE 28 ****** \r\n",
        "Msg: num contigs leftover: 806\r\n",
        "Percent of reads (out of 0) mapped: 0\r\n",
        "Num. reads filtered: 0\r\n",
        "Percent of reads (out of 0) mapped: 0\r\n",
        "Num. reads filtered: 0\r\n",
        "Percent of jobs (out of 806) done: 0\b1\b2\b3\b4\b5\b6\b7\b8"
       ]
      },
      {
       "output_type": "stream",
       "stream": "stdout",
       "text": [
        "\b9\b10\b\b11\b\b12\b\b13\b\b14\b\b15\b\b16\b\b17\b\b18\b\b19\b\b20\b\b21\b\b22\b\b23\b\b24\b\b25\b\b26\b\b27\b\b28\b\b29\b\b30\b\b31\b\b32\b\b33\b\b34\b\b35\b\b36\b\b37\b\b38\b\b39\b\b40\b\b41\b\b42\b\b43\b\b44\b\b45\b\b46\b\b47\b\b48\b\b49\b\b50\b\b51\b\b52\b\b53\b\b54\b\b55\b\b56\b\b57\b\b58\b\b59\b\b60\b\b61\b\b62\b\b63\b\b64\b\b65\b\b66\b\b67\b\b68\b\b69\b\b70\b\b71\b\b72\b\b73\b\b74\b\b75\b\b76\b\b77\b\b78\b\b79\b\b80\b\b81\b\b82\b\b83\b\b84\b\b85\b\b86\b\b87\b\b88\b\b89\b\b90\b\b91\b\b92\b\b93\b\b94\b\b95\b\b96\b\b97\b\b98\b\b99\b\b100\r\n",
        "meta-assembly of 806 contigs... "
       ]
      },
      {
       "output_type": "stream",
       "stream": "stdout",
       "text": [
        "collapsed into 806 contigs.\r\n",
        "End Cycle: num contigs/total size/N50/max size = 806 / 100908 / 150 / 965\r\n",
        "\r\n",
        "****** CYCLE 29 ****** \r\n",
        "Msg: num contigs leftover: 806\r\n",
        "Percent of reads (out of 0) mapped: 0\r\n",
        "Num. reads filtered: 0\r\n",
        "Percent of reads (out of 0) mapped: 0\r\n",
        "Num. reads filtered: 0\r\n",
        "Percent of jobs (out of 806) done: 0\b1\b2\b3\b4\b5\b6\b7\b8\b9\b10\b\b11\b\b12\b\b13"
       ]
      },
      {
       "output_type": "stream",
       "stream": "stdout",
       "text": [
        "\b\b14\b\b15\b\b16\b\b17\b\b18\b\b19\b\b20\b\b21\b\b22\b\b23\b\b24\b\b25\b\b26\b\b27\b\b28\b\b29\b\b30\b\b31\b\b32\b\b33\b\b34\b\b35\b\b36\b\b37\b\b38\b\b39\b\b40\b\b41\b\b42\b\b43\b\b44\b\b45\b\b46\b\b47\b\b48\b\b49\b\b50\b\b51\b\b52\b\b53\b\b54\b\b55\b\b56\b\b57\b\b58\b\b59\b\b60\b\b61\b\b62\b\b63\b\b64\b\b65\b\b66\b\b67\b\b68\b\b69\b\b70\b\b71\b\b72\b\b73\b\b74\b\b75\b\b76\b\b77\b\b78\b\b79\b\b80\b\b81\b\b82\b\b83\b\b84\b\b85\b\b86\b\b87\b\b88\b\b89\b\b90\b\b91\b\b92\b\b93\b\b94\b\b95\b\b96\b\b97\b\b98\b\b99\b\b100\r\n",
        "meta-assembly of 806 contigs... "
       ]
      },
      {
       "output_type": "stream",
       "stream": "stdout",
       "text": [
        "collapsed into 806 contigs.\r\n",
        "End Cycle: num contigs/total size/N50/max size = 806 / 100908 / 150 / 965\r\n",
        "\r\n",
        "****** CYCLE 30 ****** \r\n",
        "Msg: num contigs leftover: 806\r\n",
        "Percent of reads (out of 0) mapped: 0\r\n",
        "Num. reads filtered: 0\r\n",
        "Percent of reads (out of 0) mapped: 0\r\n",
        "Num. reads filtered: 0\r\n",
        "Percent of jobs (out of 806) done: 0\b1\b2\b3\b4\b5\b6\b7\b8\b9\b10\b\b11\b\b12\b\b13\b\b14\b\b15\b\b16\b\b17\b\b18\b\b19\b\b20\b\b21\b\b22\b\b23\b\b24\b\b25\b\b26\b\b27\b\b28\b\b29\b\b30\b\b31\b\b32\b\b33\b\b34\b\b35\b\b36\b\b37\b\b38\b\b39\b\b40\b\b41\b\b42\b\b43\b\b44\b\b45\b\b46\b\b47\b\b48\b\b49\b\b50\b\b51\b\b52\b\b53\b\b54\b\b55\b\b56\b\b57\b\b58\b\b59\b\b60\b\b61\b\b62\b\b63\b\b64\b\b65\b\b66\b\b67\b\b68\b\b69\b\b70\b\b71\b\b72\b\b73\b\b74\b\b75\b\b76\b\b77\b\b78\b\b79\b\b80\b\b81\b\b82\b\b83\b\b84\b\b85\b\b86\b\b87\b\b88\b\b89\b\b90\b\b91\b\b92\b\b93\b\b94\b\b95\b\b96\b\b97\b\b98\b\b99\b\b100\r\n",
        "meta-assembly of 806 contigs... "
       ]
      },
      {
       "output_type": "stream",
       "stream": "stdout",
       "text": [
        "collapsed into 806 contigs.\r\n",
        "Writing outfile:  ../data/price-1-contigs-k31-n5098-max965.cycle30.fasta\r\n",
        "End Cycle: num contigs/total size/N50/max size = 806 / 100908 / 150 / 965\r\n"
       ]
      }
     ],
     "prompt_number": 24
    },
    {
     "cell_type": "code",
     "collapsed": true,
     "input": [
      "!PriceTI -icf ../data/contigs-k23-n5046-max1498.fasta 10 10 3 -o ../data/price-1-contigs-k23-n5046-max1498.fasta -nc 30 -nco 30 -mol 25 -mpi 50"
     ],
     "language": "python",
     "metadata": {},
     "outputs": [
      {
       "output_type": "stream",
       "stream": "stdout",
       "text": [
        "PRICE Assembler v1.2\r\n",
        "\r\n",
        "Launch command: PriceTI -icf ../data/contigs-k23-n5046-max1498.fasta 10 10 3 -o ../data/price-1-contigs-k23-n5046-max1498.fasta -nc 30 -nco 30 -mol 25 -mpi 50\r\n",
        "\r\n",
        "****** CYCLE 1 ****** \r\n",
        "Collected new initial contigs: num contigs/total size/N50/max size = 143 / 45222 / 327 / 1498\r\n",
        "Adding initial contigs: num contigs/total size/N50/max size = 143 / 45222 / 327 / 1498\r\n"
       ]
      },
      {
       "output_type": "stream",
       "stream": "stdout",
       "text": [
        "Added initial contigs: num contigs/total size/N50/max size = 143 / 45222 / 327 / 1498\r\n",
        "Msg: num contigs leftover: 0\r\n",
        "Percent of reads (out of 0) mapped: 0\r\n",
        "Num. reads filtered: 0\r\n",
        "Percent of reads (out of 0) mapped: 0\r\n",
        "Num. reads filtered: 0\r\n",
        "Percent of jobs (out of 143) done: 0\b1\b2\b3\b4\b5\b6\b7\b8\b9\b10\b\b11\b\b12\b\b13\b\b14\b\b15\b\b16\b\b17\b\b18\b\b19\b\b20\b\b21\b\b22\b\b23\b\b24\b\b25\b\b26\b\b27\b\b28\b\b29\b\b30\b\b31\b\b32\b\b33\b\b34\b\b35\b\b36\b\b37\b\b38\b\b39\b\b40\b\b41\b\b42\b\b43\b\b44\b\b45\b\b46\b\b47\b\b48\b\b49\b\b50\b\b51\b\b52\b\b53\b\b54\b\b55\b\b56\b\b57\b\b58\b\b59\b\b60\b\b61\b\b62\b\b63\b\b64\b\b65\b\b66\b\b67\b\b68\b\b69\b\b70\b\b71\b\b72\b\b73\b\b74\b\b75\b\b76\b\b77\b\b78\b\b79\b\b80\b\b81\b\b82\b\b83\b\b84\b\b85\b\b86\b\b87\b\b88\b\b89\b\b90\b\b91\b\b92\b\b93\b\b94\b\b95\b\b96\b\b97\b\b98\b\b99\b\b100\r\n",
        "meta-assembly of 143 contigs... "
       ]
      },
      {
       "output_type": "stream",
       "stream": "stdout",
       "text": [
        "collapsed into 143 contigs.\r\n",
        "End Cycle: num contigs/total size/N50/max size = 143 / 45222 / 327 / 1498\r\n",
        "\r\n",
        "****** CYCLE 2 ****** \r\n",
        "Msg: num contigs leftover: 143\r\n",
        "Percent of reads (out of 0) mapped: 0\r\n",
        "Num. reads filtered: 0\r\n",
        "Percent of reads (out of 0) mapped: 0\r\n",
        "Num. reads filtered: 0\r\n",
        "Percent of jobs (out of 143) done: 0\b1\b2\b3\b4\b5\b6\b7\b8\b9\b10\b\b11\b\b12\b\b13\b\b14\b\b15\b\b16\b\b17\b\b18\b\b19\b\b20\b\b21\b\b22\b\b23\b\b24\b\b25\b\b26\b\b27\b\b28\b\b29\b\b30\b\b31\b\b32\b\b33\b\b34\b\b35\b\b36\b\b37\b\b38\b\b39\b\b40\b\b41\b\b42\b\b43\b\b44\b\b45\b\b46\b\b47\b\b48\b\b49\b\b50\b\b51\b\b52\b\b53\b\b54\b\b55\b\b56\b\b57\b\b58\b\b59\b\b60\b\b61\b\b62\b\b63\b\b64\b\b65\b\b66\b\b67\b\b68\b\b69\b\b70\b\b71\b\b72\b\b73\b\b74\b\b75\b\b76\b\b77\b\b78\b\b79\b\b80\b\b81\b\b82\b\b83\b\b84\b\b85\b\b86\b\b87\b\b88\b\b89\b\b90\b\b91\b\b92\b\b93\b\b94\b\b95\b\b96\b\b97\b\b98\b\b99\b\b100\r\n",
        "meta-assembly of 143 contigs... collapsed into 143 contigs.\r\n",
        "End Cycle: num contigs/total size/N50/max size = 143 / 45222 / 327 / 1498\r\n",
        "\r\n",
        "****** CYCLE 3 ****** \r\n",
        "Msg: num contigs leftover: 143\r\n",
        "Percent of reads (out of 0) mapped: 0\r\n",
        "Num. reads filtered: 0\r\n",
        "Percent of reads (out of 0) mapped: 0\r\n",
        "Num. reads filtered: 0\r\n",
        "Percent of jobs (out of 143) done: 0\b1\b2\b3\b4\b5\b6\b7\b8\b9\b10\b\b11\b\b12\b\b13\b\b14\b\b15\b\b16\b\b17\b\b18\b\b19\b\b20\b\b21\b\b22\b\b23\b\b24\b\b25\b\b26\b\b27\b\b28\b\b29\b\b30\b\b31\b\b32\b\b33\b\b34\b\b35\b\b36\b\b37\b\b38\b\b39\b\b40\b\b41\b\b42\b\b43\b\b44\b\b45\b\b46\b\b47\b\b48\b\b49\b\b50\b\b51\b\b52\b\b53\b\b54\b\b55\b\b56\b\b57\b\b58\b\b59\b\b60\b\b61\b\b62\b\b63\b\b64\b\b65\b\b66\b\b67\b\b68\b\b69\b\b70\b\b71\b\b72\b\b73\b\b74\b\b75\b\b76\b\b77\b\b78\b\b79\b\b80\b\b81\b\b82\b\b83\b\b84\b\b85\b\b86\b\b87\b\b88\b\b89\b\b90\b\b91\b\b92\b\b93\b\b94\b\b95\b\b96\b\b97\b\b98\b\b99\b\b100\r\n",
        "meta-assembly of 143 contigs... "
       ]
      },
      {
       "output_type": "stream",
       "stream": "stdout",
       "text": [
        "collapsed into 143 contigs.\r\n",
        "End Cycle: num contigs/total size/N50/max size = 143 / 45222 / 327 / 1498\r\n",
        "\r\n",
        "****** CYCLE 4 ****** \r\n",
        "Msg: num contigs leftover: 143\r\n",
        "Percent of reads (out of 0) mapped: 0\r\n",
        "Num. reads filtered: 0\r\n",
        "Percent of reads (out of 0) mapped: 0\r\n",
        "Num. reads filtered: 0\r\n",
        "Percent of jobs (out of 143) done: 0\b1\b2\b3\b4\b5\b6\b7\b8\b9\b10\b\b11\b\b12\b\b13\b\b14\b\b15\b\b16\b\b17\b\b18\b\b19\b\b20\b\b21\b\b22\b\b23\b\b24\b\b25\b\b26\b\b27\b\b28\b\b29\b\b30\b\b31\b\b32\b\b33\b\b34\b\b35\b\b36\b\b37\b\b38\b\b39\b\b40\b\b41\b\b42\b\b43\b\b44\b\b45\b\b46\b\b47\b\b48\b\b49\b\b50\b\b51\b\b52\b\b53\b\b54\b\b55\b\b56\b\b57\b\b58\b\b59\b\b60\b\b61\b\b62\b\b63\b\b64\b\b65\b\b66\b\b67\b\b68\b\b69\b\b70\b\b71\b\b72\b\b73\b\b74\b\b75\b\b76\b\b77\b\b78\b\b79\b\b80\b\b81\b\b82\b\b83\b\b84\b\b85\b\b86\b\b87\b\b88\b\b89\b\b90\b\b91\b\b92\b\b93\b\b94\b\b95\b\b96\b\b97\b\b98\b\b99\b\b100\r\n",
        "meta-assembly of 143 contigs... "
       ]
      },
      {
       "output_type": "stream",
       "stream": "stdout",
       "text": [
        "collapsed into 143 contigs.\r\n",
        "End Cycle: num contigs/total size/N50/max size = 143 / 45222 / 327 / 1498\r\n",
        "\r\n",
        "****** CYCLE 5 ****** \r\n",
        "Msg: num contigs leftover: 143\r\n",
        "Percent of reads (out of 0) mapped: 0\r\n",
        "Num. reads filtered: 0\r\n",
        "Percent of reads (out of 0) mapped: 0\r\n",
        "Num. reads filtered: 0\r\n",
        "Percent of jobs (out of 143) done: 0\b1\b2\b3\b4\b5\b6\b7\b8\b9\b10\b\b11\b\b12\b\b13\b\b14\b\b15\b\b16\b\b17\b\b18\b\b19\b\b20\b\b21\b\b22\b\b23\b\b24\b\b25\b\b26\b\b27\b\b28\b\b29\b\b30\b\b31\b\b32\b\b33\b\b34\b\b35\b\b36\b\b37\b\b38\b\b39\b\b40\b\b41\b\b42\b\b43\b\b44\b\b45\b\b46\b\b47\b\b48\b\b49\b\b50\b\b51\b\b52\b\b53\b\b54\b\b55\b\b56\b\b57\b\b58\b\b59\b\b60\b\b61\b\b62\b\b63\b\b64\b\b65\b\b66\b\b67\b\b68\b\b69\b\b70\b\b71\b\b72\b\b73\b\b74\b\b75\b\b76\b\b77\b\b78\b\b79\b\b80\b\b81\b\b82\b\b83\b\b84\b\b85\b\b86\b\b87\b\b88\b\b89\b\b90\b\b91\b\b92\b\b93\b\b94\b\b95\b\b96\b\b97\b\b98\b\b99\b\b100\r\n",
        "meta-assembly of 143 contigs... collapsed into 143 contigs.\r\n",
        "End Cycle: num contigs/total size/N50/max size = 143 / 45222 / 327 / 1498\r\n",
        "\r\n",
        "****** CYCLE 6 ****** \r\n",
        "Msg: num contigs leftover: 143\r\n",
        "Percent of reads (out of 0) mapped: 0\r\n",
        "Num. reads filtered: 0\r\n",
        "Percent of reads (out of 0) mapped: 0\r\n",
        "Num. reads filtered: 0\r\n",
        "Percent of jobs (out of 143) done: 0\b1\b2\b3\b4\b5\b6\b7\b8\b9\b10\b\b11\b\b12\b\b13\b\b14\b\b15\b\b16\b\b17\b\b18\b\b19\b\b20\b\b21\b\b22\b\b23\b\b24\b\b25\b\b26\b\b27\b\b28\b\b29\b\b30\b\b31\b\b32\b\b33\b\b34\b\b35\b\b36\b\b37\b\b38\b\b39\b\b40\b\b41\b\b42\b\b43\b\b44\b\b45\b\b46\b\b47\b\b48\b\b49\b\b50\b\b51\b\b52\b\b53\b\b54\b\b55\b\b56\b\b57\b\b58\b\b59\b\b60\b\b61\b\b62\b\b63\b\b64\b\b65\b\b66\b\b67\b\b68\b\b69\b\b70\b\b71\b\b72\b\b73\b\b74\b\b75\b\b76\b\b77\b\b78\b\b79\b\b80\b\b81\b\b82\b\b83\b\b84\b\b85\b\b86\b\b87\b\b88\b\b89\b\b90\b\b91\b\b92\b\b93\b\b94\b\b95\b\b96\b\b97\b\b98\b\b99\b\b100\r\n",
        "meta-assembly of 143 contigs... "
       ]
      },
      {
       "output_type": "stream",
       "stream": "stdout",
       "text": [
        "collapsed into 143 contigs.\r\n",
        "End Cycle: num contigs/total size/N50/max size = 143 / 45222 / 327 / 1498\r\n",
        "\r\n",
        "****** CYCLE 7 ****** \r\n",
        "Msg: num contigs leftover: 143\r\n",
        "Percent of reads (out of 0) mapped: 0\r\n",
        "Num. reads filtered: 0\r\n",
        "Percent of reads (out of 0) mapped: 0\r\n",
        "Num. reads filtered: 0\r\n",
        "Percent of jobs (out of 143) done: 0\b1\b2\b3\b4\b5\b6\b7\b8\b9\b10\b\b11\b\b12\b\b13\b\b14\b\b15\b\b16\b\b17\b\b18\b\b19\b\b20\b\b21\b\b22\b\b23\b\b24\b\b25\b\b26\b\b27\b\b28\b\b29\b\b30\b\b31\b\b32\b\b33\b\b34\b\b35\b\b36\b\b37\b\b38\b\b39\b\b40\b\b41\b\b42\b\b43\b\b44\b\b45\b\b46\b\b47\b\b48\b\b49\b\b50\b\b51\b\b52\b\b53\b\b54\b\b55\b\b56\b\b57\b\b58\b\b59\b\b60\b\b61\b\b62\b\b63\b\b64\b\b65\b\b66\b\b67\b\b68\b\b69\b\b70\b\b71\b\b72\b\b73\b\b74\b\b75\b\b76\b\b77\b\b78\b\b79\b\b80\b\b81\b\b82\b\b83\b\b84\b\b85\b\b86\b\b87\b\b88\b\b89\b\b90\b\b91\b\b92\b\b93\b\b94\b\b95\b\b96\b\b97\b\b98\b\b99\b\b100\r\n",
        "meta-assembly of 143 contigs... "
       ]
      },
      {
       "output_type": "stream",
       "stream": "stdout",
       "text": [
        "collapsed into 143 contigs.\r\n",
        "End Cycle: num contigs/total size/N50/max size = 143 / 45222 / 327 / 1498\r\n",
        "\r\n",
        "****** CYCLE 8 ****** \r\n",
        "Msg: num contigs leftover: 143\r\n",
        "Percent of reads (out of 0) mapped: 0\r\n",
        "Num. reads filtered: 0\r\n",
        "Percent of reads (out of 0) mapped: 0\r\n",
        "Num. reads filtered: 0\r\n",
        "Percent of jobs (out of 143) done: 0\b1\b2\b3\b4\b5\b6\b7\b8\b9\b10\b\b11\b\b12\b\b13\b\b14\b\b15\b\b16\b\b17\b\b18\b\b19\b\b20\b\b21\b\b22\b\b23\b\b24\b\b25\b\b26\b\b27\b\b28\b\b29\b\b30\b\b31\b\b32\b\b33\b\b34\b\b35\b\b36\b\b37\b\b38\b\b39\b\b40\b\b41\b\b42\b\b43\b\b44\b\b45\b\b46\b\b47\b\b48\b\b49\b\b50\b\b51\b\b52\b\b53\b\b54\b\b55\b\b56\b\b57\b\b58\b\b59\b\b60\b\b61\b\b62\b\b63\b\b64\b\b65\b\b66\b\b67\b\b68\b\b69\b\b70\b\b71\b\b72\b\b73\b\b74\b\b75\b\b76\b\b77\b\b78\b\b79\b\b80\b\b81\b\b82\b\b83\b\b84\b\b85\b\b86\b\b87\b\b88\b\b89\b\b90\b\b91\b\b92\b\b93\b\b94\b\b95\b\b96\b\b97\b\b98\b\b99\b\b100\r\n",
        "meta-assembly of 143 contigs... collapsed into 143 contigs.\r\n",
        "End Cycle: num contigs/total size/N50/max size = 143 / 45222 / 327 / 1498\r\n",
        "\r\n",
        "****** CYCLE 9 ****** \r\n",
        "Msg: num contigs leftover: 143\r\n",
        "Percent of reads (out of 0) mapped: 0\r\n",
        "Num. reads filtered: 0\r\n",
        "Percent of reads (out of 0) mapped: 0\r\n",
        "Num. reads filtered: 0\r\n",
        "Percent of jobs (out of 143) done: 0\b1\b2\b3\b4\b5\b6\b7\b8\b9\b10\b\b11\b\b12\b\b13\b\b14\b\b15\b\b16\b\b17\b\b18\b\b19\b\b20\b\b21\b\b22\b\b23\b\b24\b\b25\b\b26\b\b27\b\b28\b\b29\b\b30\b\b31\b\b32\b\b33\b\b34\b\b35\b\b36\b\b37\b\b38\b\b39\b\b40\b\b41\b\b42\b\b43\b\b44\b\b45\b\b46\b\b47\b\b48\b\b49\b\b50\b\b51\b\b52\b\b53\b\b54\b\b55\b\b56\b\b57\b\b58\b\b59\b\b60\b\b61\b\b62\b\b63\b\b64\b\b65\b\b66\b\b67\b\b68\b\b69\b\b70\b\b71\b\b72\b\b73\b\b74\b\b75\b\b76\b\b77\b\b78\b\b79\b\b80\b\b81\b\b82\b\b83\b\b84\b\b85\b\b86\b\b87\b\b88\b\b89\b\b90\b\b91\b\b92\b\b93\b\b94\b\b95\b\b96\b\b97\b\b98\b\b99\b\b100\r\n",
        "meta-assembly of 143 contigs... "
       ]
      },
      {
       "output_type": "stream",
       "stream": "stdout",
       "text": [
        "collapsed into 143 contigs.\r\n",
        "End Cycle: num contigs/total size/N50/max size = 143 / 45222 / 327 / 1498\r\n",
        "\r\n",
        "****** CYCLE 10 ****** \r\n",
        "Msg: num contigs leftover: 143\r\n",
        "Percent of reads (out of 0) mapped: 0\r\n",
        "Num. reads filtered: 0\r\n",
        "Percent of reads (out of 0) mapped: 0\r\n",
        "Num. reads filtered: 0\r\n",
        "Percent of jobs (out of 143) done: 0\b1\b2\b3\b4\b5\b6\b7\b8\b9\b10\b\b11\b\b12\b\b13\b\b14\b\b15\b\b16\b\b17\b\b18\b\b19\b\b20\b\b21\b\b22\b\b23\b\b24\b\b25\b\b26\b\b27\b\b28\b\b29\b\b30\b\b31\b\b32\b\b33\b\b34\b\b35\b\b36\b\b37\b\b38\b\b39\b\b40\b\b41\b\b42\b\b43\b\b44\b\b45\b\b46\b\b47\b\b48\b\b49\b\b50\b\b51\b\b52\b\b53\b\b54\b\b55\b\b56\b\b57\b\b58\b\b59\b\b60\b\b61\b\b62\b\b63\b\b64\b\b65\b\b66\b\b67\b\b68\b\b69\b\b70\b\b71\b\b72\b\b73\b\b74\b\b75\b\b76\b\b77\b\b78\b\b79\b\b80\b\b81\b\b82\b\b83\b\b84\b\b85\b\b86\b\b87\b\b88\b\b89\b\b90\b\b91\b\b92\b\b93\b\b94\b\b95\b\b96\b\b97\b\b98\b\b99\b\b100\r\n",
        "meta-assembly of 143 contigs... "
       ]
      },
      {
       "output_type": "stream",
       "stream": "stdout",
       "text": [
        "collapsed into 143 contigs.\r\n",
        "End Cycle: num contigs/total size/N50/max size = 143 / 45222 / 327 / 1498\r\n",
        "\r\n",
        "****** CYCLE 11 ****** \r\n",
        "Collected new initial contigs: num contigs/total size/N50/max size = 144 / 21132 / 148 / 181\r\n",
        "Adding initial contigs: num contigs/total size/N50/max size = 287 / 66354 / 224 / 1498\r\n"
       ]
      },
      {
       "output_type": "stream",
       "stream": "stdout",
       "text": [
        "Added initial contigs: num contigs/total size/N50/max size = 287 / 66354 / 224 / 1498\r\n",
        "Msg: num contigs leftover: 143\r\n",
        "Percent of reads (out of 0) mapped: 0\r\n",
        "Num. reads filtered: 0\r\n",
        "Percent of reads (out of 0) mapped: 0\r\n",
        "Num. reads filtered: 0\r\n",
        "Percent of jobs (out of 287) done: 0\b1\b2\b3\b4\b5\b6\b7\b8\b9\b10\b\b11\b\b12\b\b13\b\b14\b\b15\b\b16\b\b17\b\b18\b\b19\b\b20\b\b21\b\b22\b\b23\b\b24\b\b25\b\b26\b\b27\b\b28\b\b29\b\b30\b\b31\b\b32\b\b33\b\b34\b\b35\b\b36\b\b37\b\b38\b\b39\b\b40\b\b41\b\b42\b\b43\b\b44\b\b45\b\b46\b\b47\b\b48\b\b49\b\b50\b\b51\b\b52\b\b53\b\b54\b\b55\b\b56\b\b57\b\b58\b\b59\b\b60\b\b61\b\b62\b\b63\b\b64\b\b65\b\b66\b\b67\b\b68\b\b69\b\b70\b\b71\b\b72\b\b73\b\b74\b\b75\b\b76\b\b77\b\b78\b\b79\b\b80\b\b81\b\b82\b\b83\b\b84\b\b85\b\b86\b\b87\b\b88\b\b89\b\b90\b\b91\b\b92\b\b93\b\b94\b\b95\b\b96\b\b97\b\b98\b\b99\b\b100\r\n",
        "meta-assembly of 287 contigs... "
       ]
      },
      {
       "output_type": "stream",
       "stream": "stdout",
       "text": [
        "collapsed into 287 contigs."
       ]
      },
      {
       "output_type": "stream",
       "stream": "stdout",
       "text": [
        "\r\n",
        "End Cycle: num contigs/total size/N50/max size = 287 / 66354 / 224 / 1498\r\n",
        "\r\n",
        "****** CYCLE 12 ****** \r\n",
        "Msg: num contigs leftover: 287\r\n",
        "Percent of reads (out of 0) mapped: 0\r\n",
        "Num. reads filtered: 0\r\n",
        "Percent of reads (out of 0) mapped: 0\r\n",
        "Num. reads filtered: 0\r\n",
        "Percent of jobs (out of 287) done: 0\b1\b2\b3\b4\b5\b6\b7\b8\b9\b10\b\b11\b\b12\b\b13\b\b14\b\b15\b\b16\b\b17\b\b18\b\b19\b\b20\b\b21\b\b22\b\b23\b\b24\b\b25\b\b26\b\b27\b\b28\b\b29\b\b30\b\b31\b\b32\b\b33\b\b34\b\b35\b\b36\b\b37\b\b38\b\b39\b\b40\b\b41\b\b42\b\b43\b\b44\b\b45\b\b46\b\b47\b\b48\b\b49\b\b50\b\b51\b\b52\b\b53\b\b54\b\b55\b\b56\b\b57\b\b58\b\b59\b\b60\b\b61\b\b62\b\b63\b\b64\b\b65\b\b66\b\b67\b\b68\b\b69\b\b70\b\b71\b\b72\b\b73\b\b74\b\b75\b\b76\b\b77\b\b78\b\b79\b\b80\b\b81\b\b82\b\b83\b\b84\b\b85\b\b86\b\b87\b\b88\b\b89\b\b90\b\b91\b\b92\b\b93\b\b94\b\b95\b\b96\b\b97\b\b98\b\b99\b\b100\r\n",
        "meta-assembly of 287 contigs... "
       ]
      },
      {
       "output_type": "stream",
       "stream": "stdout",
       "text": [
        "collapsed into 287 contigs.\r\n",
        "End Cycle: num contigs/total size/N50/max size = 287 / 66354 / 224 / 1498\r\n",
        "\r\n",
        "****** CYCLE 13 ****** \r\n",
        "Msg: num contigs leftover: 287\r\n",
        "Percent of reads (out of 0) mapped: 0\r\n",
        "Num. reads filtered: 0\r\n",
        "Percent of reads (out of 0) mapped: 0\r\n",
        "Num. reads filtered: 0\r\n",
        "Percent of jobs (out of 287) done: 0\b1\b2\b3\b4\b5\b6\b7\b8\b9\b10\b\b11\b\b12\b\b13\b\b14\b\b15\b\b16\b\b17\b\b18\b\b19\b\b20\b\b21\b\b22\b\b23\b\b24\b\b25\b\b26\b\b27\b\b28\b\b29\b\b30\b\b31\b\b32\b\b33\b\b34\b\b35\b\b36\b\b37\b\b38\b\b39\b\b40\b\b41\b\b42\b\b43\b\b44\b\b45\b\b46\b\b47\b\b48\b\b49\b\b50\b\b51\b\b52\b\b53\b\b54\b\b55\b\b56\b\b57\b\b58\b\b59\b\b60\b\b61\b\b62\b\b63\b\b64\b\b65\b\b66\b\b67\b\b68\b\b69\b\b70\b\b71\b\b72\b\b73\b\b74\b\b75\b\b76\b\b77\b\b78\b\b79\b\b80\b\b81\b\b82\b\b83\b\b84\b\b85\b\b86\b\b87\b\b88\b\b89\b\b90\b\b91\b\b92\b\b93\b\b94\b\b95\b\b96\b\b97\b\b98\b\b99\b\b100\r\n",
        "meta-assembly of 287 contigs... "
       ]
      },
      {
       "output_type": "stream",
       "stream": "stdout",
       "text": [
        "collapsed into 287 contigs.\r\n",
        "End Cycle: num contigs/total size/N50/max size = 287 / 66354 / 224 / 1498\r\n",
        "\r\n",
        "****** CYCLE 14 ****** \r\n",
        "Msg: num contigs leftover: 287\r\n",
        "Percent of reads (out of 0) mapped: 0\r\n",
        "Num. reads filtered: 0\r\n",
        "Percent of reads (out of 0) mapped: 0\r\n",
        "Num. reads filtered: 0\r\n",
        "Percent of jobs (out of 287) done: 0\b1\b2\b3\b4\b5\b6\b7\b8\b9\b10\b\b11\b\b12\b\b13\b\b14\b\b15\b\b16\b\b17\b\b18\b\b19\b\b20\b\b21\b\b22\b\b23\b\b24\b\b25\b\b26\b\b27\b\b28\b\b29\b\b30\b\b31\b\b32\b\b33\b\b34\b\b35\b\b36\b\b37\b\b38\b\b39\b\b40\b\b41\b\b42\b\b43\b\b44\b\b45\b\b46\b\b47\b\b48\b\b49\b\b50\b\b51\b\b52\b\b53\b\b54\b\b55\b\b56\b\b57\b\b58\b\b59\b\b60\b\b61\b\b62\b\b63\b\b64\b\b65\b\b66\b\b67\b\b68\b\b69\b\b70\b\b71\b\b72\b\b73\b\b74\b\b75\b\b76\b\b77\b\b78\b\b79\b\b80\b\b81\b\b82\b\b83\b\b84\b\b85\b\b86\b\b87\b\b88\b\b89\b\b90\b\b91\b\b92\b\b93\b\b94\b\b95\b\b96\b\b97\b\b98\b\b99\b\b100\r\n",
        "meta-assembly of 287 contigs... "
       ]
      },
      {
       "output_type": "stream",
       "stream": "stdout",
       "text": [
        "collapsed into 287 contigs.\r\n",
        "End Cycle: num contigs/total size/N50/max size = 287 / 66354 / 224 / 1498\r\n",
        "\r\n",
        "****** CYCLE 15 ****** \r\n",
        "Msg: num contigs leftover: 287\r\n",
        "Percent of reads (out of 0) mapped: 0\r\n",
        "Num. reads filtered: 0\r\n",
        "Percent of reads (out of 0) mapped: 0\r\n",
        "Num. reads filtered: 0\r\n",
        "Percent of jobs (out of 287) done: 0\b1\b2\b3\b4\b5\b6\b7\b8\b9\b10\b\b11\b\b12\b\b13\b\b14\b\b15\b\b16\b\b17\b\b18\b\b19\b\b20\b\b21\b\b22\b\b23\b\b24\b\b25\b\b26\b\b27\b\b28\b\b29\b\b30\b\b31\b\b32\b\b33\b\b34\b\b35\b\b36\b\b37\b\b38\b\b39\b\b40\b\b41\b\b42\b\b43\b\b44\b\b45\b\b46\b\b47\b\b48\b\b49\b\b50\b\b51\b\b52\b\b53\b\b54\b\b55\b\b56\b\b57\b\b58\b\b59\b\b60\b\b61\b\b62\b\b63\b\b64\b\b65\b\b66\b\b67\b\b68\b\b69\b\b70\b\b71\b\b72\b\b73\b\b74\b\b75\b\b76\b\b77\b\b78\b\b79\b\b80\b\b81\b\b82\b\b83\b\b84\b\b85\b\b86\b\b87\b\b88\b\b89\b\b90\b\b91\b\b92\b\b93\b\b94\b\b95\b\b96\b\b97\b\b98\b\b99\b\b100\r\n",
        "meta-assembly of 287 contigs... "
       ]
      },
      {
       "output_type": "stream",
       "stream": "stdout",
       "text": [
        "collapsed into 287 contigs.\r\n",
        "End Cycle: num contigs/total size/N50/max size = 287 / 66354 / 224 / 1498\r\n",
        "\r\n",
        "****** CYCLE 16 ****** \r\n",
        "Msg: num contigs leftover: 287\r\n",
        "Percent of reads (out of 0) mapped: 0\r\n",
        "Num. reads filtered: 0\r\n",
        "Percent of reads (out of 0) mapped: 0\r\n",
        "Num. reads filtered: 0\r\n",
        "Percent of jobs (out of 287) done: 0\b1\b2\b3\b4\b5\b6\b7\b8\b9\b10\b\b11\b\b12\b\b13\b\b14\b\b15\b\b16\b\b17\b\b18\b\b19\b\b20\b\b21"
       ]
      },
      {
       "output_type": "stream",
       "stream": "stdout",
       "text": [
        "\b\b22\b\b23\b\b24\b\b25\b\b26\b\b27\b\b28\b\b29\b\b30\b\b31\b\b32\b\b33\b\b34\b\b35\b\b36\b\b37\b\b38\b\b39\b\b40\b\b41\b\b42\b\b43\b\b44\b\b45\b\b46\b\b47\b\b48\b\b49\b\b50\b\b51\b\b52\b\b53\b\b54\b\b55\b\b56\b\b57\b\b58\b\b59\b\b60\b\b61\b\b62\b\b63\b\b64\b\b65\b\b66\b\b67\b\b68\b\b69\b\b70\b\b71\b\b72\b\b73\b\b74\b\b75\b\b76\b\b77\b\b78\b\b79\b\b80\b\b81\b\b82\b\b83\b\b84\b\b85\b\b86\b\b87\b\b88\b\b89\b\b90\b\b91\b\b92\b\b93\b\b94\b\b95\b\b96\b\b97\b\b98\b\b99\b\b100\r\n",
        "meta-assembly of 287 contigs... "
       ]
      },
      {
       "output_type": "stream",
       "stream": "stdout",
       "text": [
        "collapsed into 287 contigs.\r\n",
        "End Cycle: num contigs/total size/N50/max size = 287 / 66354 / 224 / 1498\r\n",
        "\r\n",
        "****** CYCLE 17 ****** \r\n",
        "Msg: num contigs leftover: 287\r\n",
        "Percent of reads (out of 0) mapped: 0\r\n",
        "Num. reads filtered: 0\r\n",
        "Percent of reads (out of 0) mapped: 0\r\n",
        "Num. reads filtered: 0\r\n",
        "Percent of jobs (out of 287) done: 0\b1\b2\b3\b4\b5\b6\b7\b8\b9\b10\b\b11\b\b12\b\b13\b\b14\b\b15\b\b16\b\b17\b\b18\b\b19\b\b20\b\b21\b\b22\b\b23\b\b24\b\b25\b\b26\b\b27\b\b28\b\b29\b\b30\b\b31\b\b32\b\b33\b\b34\b\b35\b\b36\b\b37\b\b38\b\b39\b\b40\b\b41\b\b42\b\b43\b\b44\b\b45\b\b46\b\b47\b\b48\b\b49\b\b50\b\b51\b\b52\b\b53\b\b54\b\b55\b\b56\b\b57\b\b58\b\b59\b\b60\b\b61\b\b62\b\b63\b\b64\b\b65\b\b66\b\b67\b\b68\b\b69\b\b70\b\b71\b\b72\b\b73\b\b74\b\b75\b\b76\b\b77\b\b78\b\b79\b\b80\b\b81\b\b82\b\b83\b\b84\b\b85\b\b86\b\b87\b\b88\b\b89\b\b90\b\b91\b\b92\b\b93\b\b94\b\b95\b\b96\b\b97\b\b98\b\b99\b\b100\r\n",
        "meta-assembly of 287 contigs... "
       ]
      },
      {
       "output_type": "stream",
       "stream": "stdout",
       "text": [
        "collapsed into 287 contigs.\r\n",
        "End Cycle: num contigs/total size/N50/max size = 287 / 66354 / 224 / 1498\r\n",
        "\r\n",
        "****** CYCLE 18 ****** \r\n",
        "Msg: num contigs leftover: 287\r\n",
        "Percent of reads (out of 0) mapped: 0\r\n",
        "Num. reads filtered: 0\r\n",
        "Percent of reads (out of 0) mapped: 0\r\n",
        "Num. reads filtered: 0\r\n",
        "Percent of jobs (out of 287) done: 0\b1\b2\b3\b4\b5\b6\b7\b8\b9\b10\b\b11\b\b12\b\b13\b\b14\b\b15\b\b16\b\b17\b\b18\b\b19\b\b20\b\b21\b\b22\b\b23\b\b24\b\b25\b\b26\b\b27\b\b28\b\b29\b\b30\b\b31\b\b32\b\b33\b\b34\b\b35\b\b36\b\b37\b\b38\b\b39\b\b40\b\b41\b\b42\b\b43\b\b44\b\b45\b\b46\b\b47\b\b48\b\b49\b\b50\b\b51\b\b52\b\b53\b\b54\b\b55\b\b56\b\b57\b\b58\b\b59\b\b60\b\b61\b\b62\b\b63\b\b64\b\b65\b\b66\b\b67\b\b68\b\b69\b\b70\b\b71\b\b72\b\b73\b\b74\b\b75\b\b76\b\b77\b\b78\b\b79\b\b80\b\b81\b\b82\b\b83\b\b84\b\b85\b\b86\b\b87\b\b88\b\b89\b\b90\b\b91\b\b92\b\b93\b\b94\b\b95\b\b96\b\b97\b\b98\b\b99\b\b100\r\n",
        "meta-assembly of 287 contigs... "
       ]
      },
      {
       "output_type": "stream",
       "stream": "stdout",
       "text": [
        "collapsed into 287 contigs.\r\n",
        "End Cycle: num contigs/total size/N50/max size = 287 / 66354 / 224 / 1498\r\n",
        "\r\n",
        "****** CYCLE 19 ****** \r\n",
        "Msg: num contigs leftover: 287\r\n",
        "Percent of reads (out of 0) mapped: 0\r\n",
        "Num. reads filtered: 0\r\n",
        "Percent of reads (out of 0) mapped: 0\r\n",
        "Num. reads filtered: 0\r\n",
        "Percent of jobs (out of 287) done: 0\b1\b2\b3\b4\b5\b6\b7\b8\b9\b10\b\b11\b\b12\b\b13\b\b14\b\b15\b\b16\b\b17\b\b18\b\b19\b\b20\b\b21\b\b22\b\b23\b\b24\b\b25\b\b26\b\b27\b\b28\b\b29\b\b30\b\b31\b\b32\b\b33\b\b34\b\b35\b\b36\b\b37\b\b38\b\b39\b\b40\b\b41\b\b42\b\b43\b\b44\b\b45\b\b46\b\b47\b\b48\b\b49\b\b50\b\b51\b\b52\b\b53\b\b54\b\b55\b\b56\b\b57\b\b58\b\b59\b\b60\b\b61\b\b62\b\b63\b\b64\b\b65\b\b66\b\b67\b\b68\b\b69\b\b70\b\b71\b\b72\b\b73\b\b74\b\b75\b\b76\b\b77\b\b78\b\b79\b\b80\b\b81\b\b82\b\b83\b\b84\b\b85\b\b86\b\b87\b\b88\b\b89\b\b90\b\b91\b\b92\b\b93\b\b94\b\b95\b\b96\b\b97\b\b98\b\b99\b\b100\r\n",
        "meta-assembly of 287 contigs... "
       ]
      },
      {
       "output_type": "stream",
       "stream": "stdout",
       "text": [
        "collapsed into 287 contigs.\r\n",
        "End Cycle: num contigs/total size/N50/max size = 287 / 66354 / 224 / 1498\r\n",
        "\r\n",
        "****** CYCLE 20 ****** \r\n",
        "Msg: num contigs leftover: 287\r\n",
        "Percent of reads (out of 0) mapped: 0\r\n",
        "Num. reads filtered: 0\r\n",
        "Percent of reads (out of 0) mapped: 0\r\n",
        "Num. reads filtered: 0\r\n",
        "Percent of jobs (out of 287) done: 0\b1\b2\b3\b4\b5\b6\b7\b8\b9\b10\b\b11\b\b12\b\b13\b\b14\b\b15\b\b16\b\b17\b\b18\b\b19\b\b20\b\b21\b\b22\b\b23\b\b24\b\b25\b\b26\b\b27\b\b28\b\b29\b\b30\b\b31\b\b32\b\b33\b\b34\b\b35\b\b36\b\b37\b\b38\b\b39\b\b40\b\b41\b\b42\b\b43\b\b44\b\b45\b\b46\b\b47\b\b48\b\b49\b\b50\b\b51\b\b52\b\b53\b\b54\b\b55\b\b56\b\b57\b\b58\b\b59\b\b60\b\b61\b\b62\b\b63\b\b64\b\b65\b\b66\b\b67\b\b68\b\b69\b\b70\b\b71\b\b72\b\b73\b\b74\b\b75\b\b76\b\b77\b\b78\b\b79\b\b80\b\b81\b\b82\b\b83\b\b84\b\b85\b\b86\b\b87\b\b88\b\b89\b\b90\b\b91\b\b92\b\b93\b\b94\b\b95\b\b96\b\b97\b\b98\b\b99\b\b100\r\n",
        "meta-assembly of 287 contigs... "
       ]
      },
      {
       "output_type": "stream",
       "stream": "stdout",
       "text": [
        "collapsed into 287 contigs.\r\n",
        "End Cycle: num contigs/total size/N50/max size = 287 / 66354 / 224 / 1498\r\n",
        "\r\n",
        "****** CYCLE 21 ****** \r\n",
        "Collected new initial contigs: num contigs/total size/N50/max size = 143 / 15124 / 106 / 123\r\n"
       ]
      },
      {
       "output_type": "stream",
       "stream": "stdout",
       "text": [
        "Adding initial contigs: num contigs/total size/N50/max size = 430 / 81478 / 195 / 1498\r\n"
       ]
      },
      {
       "output_type": "stream",
       "stream": "stdout",
       "text": [
        "Added initial contigs: num contigs/total size/N50/max size = 430 / 81478 / 195 / 1498\r\n",
        "Msg: num contigs leftover: 287\r\n",
        "Percent of reads (out of 0) mapped: 0\r\n",
        "Num. reads filtered: 0\r\n",
        "Percent of reads (out of 0) mapped: 0\r\n",
        "Num. reads filtered: 0\r\n",
        "Percent of jobs (out of 430) done: 0\b1\b2\b3\b4\b5\b6\b7\b8\b9\b10\b\b11\b\b12\b\b13\b\b14\b\b15\b\b16\b\b17\b\b18\b\b19\b\b20\b\b21\b\b22\b\b23\b\b24\b\b25\b\b26\b\b27\b\b28\b\b29\b\b30\b\b31\b\b32\b\b33\b\b34\b\b35\b\b36\b\b37\b\b38\b\b39\b\b40\b\b41\b\b42\b\b43\b\b44\b\b45\b\b46\b\b47\b\b48\b\b49\b\b50\b\b51\b\b52\b\b53\b\b54\b\b55\b\b56\b\b57\b\b58\b\b59\b\b60\b\b61\b\b62\b\b63\b\b64\b\b65\b\b66\b\b67\b\b68\b\b69\b\b70\b\b71\b\b72\b\b73\b\b74\b\b75\b\b76\b\b77\b\b78\b\b79\b\b80\b\b81\b\b82\b\b83\b\b84\b\b85\b\b86\b\b87\b\b88\b\b89\b\b90\b\b91\b\b92\b\b93\b\b94\b\b95\b\b96\b\b97\b\b98\b\b99\b\b100\r\n",
        "meta-assembly of 430 contigs... "
       ]
      },
      {
       "output_type": "stream",
       "stream": "stdout",
       "text": [
        "collapsed into 430 contigs.\r\n",
        "End Cycle: num contigs/total size/N50/max size = 430 / 81478 / 195 / 1498\r\n",
        "\r\n",
        "****** CYCLE 22 ****** \r\n",
        "Msg: num contigs leftover: 430\r\n",
        "Percent of reads (out of 0) mapped: 0\r\n",
        "Num. reads filtered: 0\r\n",
        "Percent of reads (out of 0) mapped: 0\r\n",
        "Num. reads filtered: 0\r\n",
        "Percent of jobs (out of 430) done: 0\b1\b2\b3\b4\b5\b6\b7\b8\b9\b10\b\b11\b\b12\b\b13\b\b14\b\b15\b\b16\b\b17\b\b18\b\b19\b\b20\b\b21\b\b22\b\b23\b\b24\b\b25\b\b26\b\b27\b\b28\b\b29\b\b30\b\b31\b\b32\b\b33\b\b34\b\b35\b\b36\b\b37\b\b38\b\b39\b\b40\b\b41\b\b42\b\b43\b\b44\b\b45\b\b46\b\b47\b\b48\b\b49\b\b50\b\b51\b\b52\b\b53\b\b54\b\b55\b\b56\b\b57\b\b58\b\b59\b\b60\b\b61\b\b62\b\b63\b\b64\b\b65\b\b66\b\b67\b\b68\b\b69\b\b70\b\b71\b\b72\b\b73\b\b74\b\b75\b\b76\b\b77\b\b78\b\b79\b\b80\b\b81\b\b82\b\b83\b\b84\b\b85\b\b86\b\b87\b\b88\b\b89\b\b90\b\b91\b\b92\b\b93\b\b94\b\b95\b\b96\b\b97\b\b98\b\b99\b\b100\r\n",
        "meta-assembly of 430 contigs... "
       ]
      },
      {
       "output_type": "stream",
       "stream": "stdout",
       "text": [
        "collapsed into 430 contigs.\r\n",
        "End Cycle: num contigs/total size/N50/max size = 430 / 81478 / 195 / 1498\r\n",
        "\r\n",
        "****** CYCLE 23 ****** \r\n",
        "Msg: num contigs leftover: 430\r\n",
        "Percent of reads (out of 0) mapped: 0\r\n",
        "Num. reads filtered: 0\r\n",
        "Percent of reads (out of 0) mapped: 0\r\n",
        "Num. reads filtered: 0\r\n",
        "Percent of jobs (out of 430) done: 0\b1\b2\b3\b4\b5\b6\b7\b8\b9\b10\b\b11\b\b12\b\b13\b\b14\b\b15\b\b16\b\b17\b\b18\b\b19\b\b20\b\b21\b\b22\b\b23\b\b24\b\b25\b\b26\b\b27\b\b28\b\b29\b\b30\b\b31\b\b32\b\b33\b\b34\b\b35\b\b36\b\b37\b\b38\b\b39\b\b40\b\b41\b\b42\b\b43\b\b44\b\b45\b\b46\b\b47\b\b48\b\b49\b\b50\b\b51\b\b52\b\b53\b\b54\b\b55\b\b56\b\b57\b\b58\b\b59\b\b60\b\b61\b\b62\b\b63\b\b64\b\b65\b\b66\b\b67\b\b68\b\b69\b\b70\b\b71\b\b72\b\b73\b\b74\b\b75\b\b76\b\b77\b\b78\b\b79\b\b80\b\b81\b\b82\b\b83\b\b84\b\b85\b\b86\b\b87\b\b88\b\b89\b\b90\b\b91\b\b92\b\b93\b\b94\b\b95\b\b96\b\b97\b\b98\b\b99\b\b100\r\n",
        "meta-assembly of 430 contigs... "
       ]
      },
      {
       "output_type": "stream",
       "stream": "stdout",
       "text": [
        "collapsed into 430 contigs.\r\n",
        "End Cycle: num contigs/total size/N50/max size = 430 / 81478 / 195 / 1498\r\n",
        "\r\n",
        "****** CYCLE 24 ****** \r\n",
        "Msg: num contigs leftover: 430\r\n",
        "Percent of reads (out of 0) mapped: 0\r\n",
        "Num. reads filtered: 0\r\n",
        "Percent of reads (out of 0) mapped: 0\r\n",
        "Num. reads filtered: 0\r\n",
        "Percent of jobs (out of 430) done: 0\b1\b2\b3\b4\b5\b6\b7\b8\b9\b10\b\b11\b\b12\b\b13\b\b14\b\b15\b\b16\b\b17\b\b18\b\b19\b\b20\b\b21\b\b22\b\b23\b\b24\b\b25\b\b26\b\b27\b\b28\b\b29\b\b30\b\b31\b\b32\b\b33\b\b34\b\b35\b\b36\b\b37\b\b38\b\b39\b\b40\b\b41\b\b42\b\b43\b\b44\b\b45\b\b46\b\b47\b\b48\b\b49\b\b50\b\b51\b\b52\b\b53\b\b54\b\b55\b\b56\b\b57\b\b58\b\b59\b\b60\b\b61\b\b62\b\b63\b\b64\b\b65\b\b66\b\b67\b\b68\b\b69\b\b70\b\b71\b\b72\b\b73\b\b74\b\b75\b\b76\b\b77\b\b78\b\b79\b\b80\b\b81\b\b82\b\b83\b\b84\b\b85\b\b86\b\b87\b\b88\b\b89\b\b90\b\b91\b\b92\b\b93\b\b94\b\b95\b\b96\b\b97\b\b98\b\b99\b\b100\r\n",
        "meta-assembly of 430 contigs... "
       ]
      },
      {
       "output_type": "stream",
       "stream": "stdout",
       "text": [
        "collapsed into 430 contigs.\r\n",
        "End Cycle: num contigs/total size/N50/max size = 430 / 81478 / 195 / 1498\r\n",
        "\r\n",
        "****** CYCLE 25 ****** \r\n",
        "Msg: num contigs leftover: 430\r\n",
        "Percent of reads (out of 0) mapped: 0\r\n",
        "Num. reads filtered: 0\r\n",
        "Percent of reads (out of 0) mapped: 0\r\n",
        "Num. reads filtered: 0\r\n",
        "Percent of jobs (out of 430) done: 0\b1\b2\b3\b4\b5\b6\b7\b8\b9\b10\b\b11\b\b12\b\b13\b\b14\b\b15\b\b16\b\b17\b\b18\b\b19\b\b20\b\b21\b\b22\b\b23\b\b24\b\b25\b\b26\b\b27\b\b28\b\b29\b\b30\b\b31\b\b32\b\b33\b\b34\b\b35\b\b36\b\b37\b\b38\b\b39\b\b40\b\b41\b\b42\b\b43\b\b44\b\b45\b\b46\b\b47\b\b48\b\b49\b\b50\b\b51\b\b52\b\b53\b\b54\b\b55\b\b56\b\b57\b\b58\b\b59\b\b60\b\b61\b\b62\b\b63\b\b64\b\b65\b\b66\b\b67\b\b68\b\b69\b\b70\b\b71\b\b72\b\b73\b\b74\b\b75\b\b76\b\b77\b\b78\b\b79\b\b80\b\b81\b\b82\b\b83\b\b84\b\b85\b\b86\b\b87\b\b88\b\b89\b\b90\b\b91\b\b92\b\b93\b\b94\b\b95\b\b96\b\b97\b\b98\b\b99\b\b100\r\n",
        "meta-assembly of 430 contigs... "
       ]
      },
      {
       "output_type": "stream",
       "stream": "stdout",
       "text": [
        "collapsed into 430 contigs.\r\n",
        "End Cycle: num contigs/total size/N50/max size = 430 / 81478 / 195 / 1498\r\n",
        "\r\n",
        "****** CYCLE 26 ****** \r\n",
        "Msg: num contigs leftover: 430\r\n",
        "Percent of reads (out of 0) mapped: 0\r\n",
        "Num. reads filtered: 0\r\n",
        "Percent of reads (out of 0) mapped: 0\r\n",
        "Num. reads filtered: 0\r\n",
        "Percent of jobs (out of 430) done: 0\b1\b2\b3\b4\b5\b6\b7\b8\b9\b10\b\b11\b\b12\b\b13\b\b14\b\b15\b\b16\b\b17\b\b18\b\b19\b\b20\b\b21\b\b22\b\b23\b\b24\b\b25\b\b26\b\b27\b\b28\b\b29\b\b30\b\b31\b\b32\b\b33\b\b34\b\b35\b\b36\b\b37\b\b38\b\b39\b\b40\b\b41\b\b42\b\b43\b\b44\b\b45\b\b46\b\b47\b\b48\b\b49\b\b50\b\b51\b\b52\b\b53\b\b54\b\b55\b\b56\b\b57\b\b58\b\b59\b\b60\b\b61\b\b62\b\b63\b\b64\b\b65\b\b66\b\b67\b\b68\b\b69\b\b70\b\b71\b\b72\b\b73\b\b74\b\b75\b\b76\b\b77\b\b78\b\b79\b\b80\b\b81\b\b82\b\b83\b\b84\b\b85\b\b86\b\b87\b\b88\b\b89\b\b90\b\b91\b\b92\b\b93\b\b94\b\b95\b\b96\b\b97\b\b98\b\b99\b\b100\r\n",
        "meta-assembly of 430 contigs... "
       ]
      },
      {
       "output_type": "stream",
       "stream": "stdout",
       "text": [
        "collapsed into 430 contigs.\r\n",
        "End Cycle: num contigs/total size/N50/max size = 430 / 81478 / 195 / 1498\r\n",
        "\r\n",
        "****** CYCLE 27 ****** \r\n",
        "Msg: num contigs leftover: 430\r\n",
        "Percent of reads (out of 0) mapped: 0\r\n",
        "Num. reads filtered: 0\r\n",
        "Percent of reads (out of 0) mapped: 0\r\n",
        "Num. reads filtered: 0\r\n",
        "Percent of jobs (out of 430) done: 0\b1\b2\b3\b4\b5\b6\b7\b8\b9\b10\b\b11\b\b12\b\b13\b\b14\b\b15\b\b16\b\b17\b\b18\b\b19\b\b20\b\b21\b\b22\b\b23\b\b24\b\b25\b\b26\b\b27\b\b28\b\b29\b\b30\b\b31\b\b32\b\b33\b\b34\b\b35\b\b36\b\b37\b\b38\b\b39\b\b40\b\b41\b\b42\b\b43\b\b44\b\b45\b\b46\b\b47\b\b48\b\b49\b\b50\b\b51\b\b52\b\b53\b\b54\b\b55\b\b56\b\b57\b\b58\b\b59\b\b60\b\b61\b\b62\b\b63\b\b64\b\b65\b\b66\b\b67\b\b68\b\b69\b\b70\b\b71\b\b72\b\b73\b\b74\b\b75\b\b76\b\b77\b\b78\b\b79\b\b80\b\b81\b\b82\b\b83\b\b84\b\b85\b\b86\b\b87\b\b88\b\b89\b\b90\b\b91\b\b92\b\b93\b\b94\b\b95\b\b96\b\b97\b\b98\b\b99\b\b100\r\n",
        "meta-assembly of 430 contigs... "
       ]
      },
      {
       "output_type": "stream",
       "stream": "stdout",
       "text": [
        "collapsed into 430 contigs.\r\n",
        "End Cycle: num contigs/total size/N50/max size = 430 / 81478 / 195 / 1498\r\n",
        "\r\n",
        "****** CYCLE 28 ****** \r\n",
        "Msg: num contigs leftover: 430\r\n",
        "Percent of reads (out of 0) mapped: 0\r\n",
        "Num. reads filtered: 0\r\n",
        "Percent of reads (out of 0) mapped: 0\r\n",
        "Num. reads filtered: 0\r\n",
        "Percent of jobs (out of 430) done: 0\b1\b2"
       ]
      },
      {
       "output_type": "stream",
       "stream": "stdout",
       "text": [
        "\b3\b4\b5\b6\b7\b8\b9\b10\b\b11\b\b12\b\b13\b\b14\b\b15\b\b16\b\b17\b\b18\b\b19\b\b20\b\b21\b\b22\b\b23\b\b24\b\b25\b\b26\b\b27\b\b28\b\b29\b\b30\b\b31\b\b32\b\b33\b\b34\b\b35\b\b36\b\b37\b\b38\b\b39\b\b40\b\b41\b\b42\b\b43\b\b44\b\b45\b\b46\b\b47\b\b48\b\b49\b\b50\b\b51\b\b52\b\b53\b\b54\b\b55\b\b56\b\b57\b\b58\b\b59\b\b60\b\b61\b\b62\b\b63\b\b64\b\b65\b\b66\b\b67\b\b68\b\b69\b\b70\b\b71\b\b72\b\b73\b\b74\b\b75\b\b76\b\b77\b\b78\b\b79\b\b80\b\b81\b\b82\b\b83\b\b84\b\b85\b\b86\b\b87\b\b88\b\b89\b\b90\b\b91\b\b92\b\b93\b\b94\b\b95\b\b96\b\b97\b\b98\b\b99\b\b100\r\n",
        "meta-assembly of 430 contigs... "
       ]
      },
      {
       "output_type": "stream",
       "stream": "stdout",
       "text": [
        "collapsed into 430 contigs.\r\n",
        "End Cycle: num contigs/total size/N50/max size = 430 / 81478 / 195 / 1498\r\n",
        "\r\n",
        "****** CYCLE 29 ****** \r\n",
        "Msg: num contigs leftover: 430\r\n",
        "Percent of reads (out of 0) mapped: 0\r\n",
        "Num. reads filtered: 0\r\n",
        "Percent of reads (out of 0) mapped: 0\r\n",
        "Num. reads filtered: 0\r\n",
        "Percent of jobs (out of 430) done: 0\b1\b2\b3\b4\b5\b6\b7\b8\b9\b10\b\b11\b\b12\b\b13\b\b14\b\b15\b\b16\b\b17\b\b18\b\b19\b\b20\b\b21\b\b22\b\b23\b\b24\b\b25\b\b26\b\b27\b\b28\b\b29\b\b30\b\b31\b\b32\b\b33\b\b34\b\b35\b\b36\b\b37\b\b38\b\b39\b\b40\b\b41\b\b42\b\b43\b\b44\b\b45\b\b46\b\b47\b\b48\b\b49\b\b50\b\b51\b\b52\b\b53\b\b54\b\b55\b\b56\b\b57\b\b58\b\b59\b\b60\b\b61\b\b62\b\b63\b\b64\b\b65\b\b66\b\b67\b\b68\b\b69\b\b70\b\b71\b\b72\b\b73\b\b74\b\b75\b\b76\b\b77\b\b78\b\b79\b\b80\b\b81\b\b82\b\b83\b\b84\b\b85\b\b86\b\b87\b\b88\b\b89\b\b90\b\b91\b\b92\b\b93\b\b94"
       ]
      },
      {
       "output_type": "stream",
       "stream": "stdout",
       "text": [
        "\b\b95\b\b96\b\b97\b\b98\b\b99\b\b100\r\n",
        "meta-assembly of 430 contigs... "
       ]
      },
      {
       "output_type": "stream",
       "stream": "stdout",
       "text": [
        "collapsed into 430 contigs.\r\n",
        "End Cycle: num contigs/total size/N50/max size = 430 / 81478 / 195 / 1498\r\n",
        "\r\n",
        "****** CYCLE 30 ****** \r\n",
        "Msg: num contigs leftover: 430\r\n",
        "Percent of reads (out of 0) mapped: 0\r\n",
        "Num. reads filtered: 0\r\n",
        "Percent of reads (out of 0) mapped: 0\r\n",
        "Num. reads filtered: 0\r\n",
        "Percent of jobs (out of 430) done: 0\b1\b2\b3\b4\b5\b6\b7\b8\b9\b10\b\b11\b\b12\b\b13\b\b14\b\b15\b\b16\b\b17\b\b18\b\b19\b\b20\b\b21\b\b22\b\b23\b\b24\b\b25\b\b26\b\b27\b\b28\b\b29\b\b30\b\b31\b\b32\b\b33\b\b34\b\b35\b\b36\b\b37\b\b38\b\b39\b\b40\b\b41\b\b42\b\b43\b\b44\b\b45\b\b46\b\b47\b\b48\b\b49\b\b50\b\b51\b\b52\b\b53\b\b54\b\b55\b\b56\b\b57\b\b58\b\b59\b\b60\b\b61\b\b62\b\b63\b\b64\b\b65\b\b66\b\b67\b\b68\b\b69\b\b70\b\b71\b\b72\b\b73\b\b74\b\b75\b\b76\b\b77\b\b78\b\b79\b\b80\b\b81\b\b82\b\b83\b\b84\b\b85\b\b86\b\b87\b\b88\b\b89\b\b90\b\b91\b\b92\b\b93\b\b94\b\b95\b\b96\b\b97\b\b98\b\b99\b\b100\r\n",
        "meta-assembly of 430 contigs... "
       ]
      },
      {
       "output_type": "stream",
       "stream": "stdout",
       "text": [
        "collapsed into 430 contigs.\r\n",
        "Writing outfile:  ../data/price-1-contigs-k23-n5046-max1498.cycle30.fasta\r\n",
        "End Cycle: num contigs/total size/N50/max size = 430 / 81478 / 195 / 1498\r\n"
       ]
      }
     ],
     "prompt_number": 27
    },
    {
     "cell_type": "code",
     "collapsed": false,
     "input": [],
     "language": "python",
     "metadata": {},
     "outputs": []
    }
   ],
   "metadata": {}
  }
 ]
}
{
 "metadata": {
  "name": "",
  "signature": "sha256:3f59aa86d79898cb3ebea0677c4f26ed0ee2455ccfda171727a3284d581bc5b5"
 },
 "nbformat": 3,
 "nbformat_minor": 0,
 "worksheets": [
  {
   "cells": [
    {
     "cell_type": "code",
     "collapsed": false,
     "input": [],
     "language": "python",
     "metadata": {},
     "outputs": [],
     "prompt_number": 16
    },
    {
     "cell_type": "markdown",
     "metadata": {},
     "source": [
      "#Velvet:\n",
      "This cell runs VelvetOptimizer, which finds the best options to use for Velvet. The Optimization function tries for the larrgets number of long contigs."
     ]
    },
    {
     "cell_type": "code",
     "collapsed": false,
     "input": [
      "!VelvetOptimiser.pl -s 13 -e 31 -f '-fastq ../data/LV89-02.fastq' --optFuncCov=Lcon"
     ],
     "language": "python",
     "metadata": {},
     "outputs": [
      {
       "output_type": "stream",
       "stream": "stdout",
       "text": [
        "\r\n",
        "****************************************************\r\n",
        "           VelvetOptimiser.pl Version 2.2.5\r\n",
        "****************************************************\r\n"
       ]
      },
      {
       "output_type": "stream",
       "stream": "stdout",
       "text": [
        "Number of CPUs available: 4\r\n",
        "Current free RAM: 6.835GB\r\n",
        "Velvet OMP compiler setting: 1\r\n",
        "Jun 16 14:31:09 Starting to check input parameters.\r\n",
        "\tVelveth parameter string OK.\r\n",
        "Jun 16 14:31:09 Finished checking input parameters.\r\n",
        "Logfile name: 16-06-2014-14-31-09_Logfile.txt\r\n",
        "Velvet details:\r\n",
        "\tVelvet version: 1.2.09\r\n",
        "\tCompiled categories: 2\r\n",
        "\tCompiled max kmer length: 31\r\n",
        "\tMaximum number of velvetinstances to run: 4\r\n",
        "Will run velvet optimiser with the following paramters:\r\n",
        "\tVelveth parameter string:\r\n",
        "\t\t-fastq ../data/LV89-02.fastq\r\n",
        "\tVelveth start hash values:\t13\r\n",
        "\tVelveth end hash value:\t\t31\r\n",
        "\tVelveth hash step value:\t2\r\n",
        "\tVelvetg minimum coverage cutoff to use:\t0\r\n",
        "\r\n",
        "\tRead tracking for final assembly off.\r\n",
        "Jun 16 14:31:09 Beginning velveth runs.\r\n"
       ]
      },
      {
       "output_type": "stream",
       "stream": "stdout",
       "text": [
        "Jun 16 14:31:09\t\tRunning velveth with hash value: 13.\r\n"
       ]
      },
      {
       "output_type": "stream",
       "stream": "stdout",
       "text": [
        "Jun 16 14:31:11\t\tRunning velveth with hash value: 15.\r\n"
       ]
      },
      {
       "output_type": "stream",
       "stream": "stdout",
       "text": [
        "Jun 16 14:31:13\t\tRunning velveth with hash value: 17.\r\n"
       ]
      },
      {
       "output_type": "stream",
       "stream": "stdout",
       "text": [
        "Jun 16 14:31:15\t\tRunning velveth with hash value: 19.\r\n"
       ]
      },
      {
       "output_type": "stream",
       "stream": "stdout",
       "text": [
        "Jun 16 14:34:31\t\tVelveth with hash value 19 finished.\r\n"
       ]
      },
      {
       "output_type": "stream",
       "stream": "stdout",
       "text": [
        "Jun 16 14:34:31\t\tRunning velveth with hash value: 21.\r\n"
       ]
      },
      {
       "output_type": "stream",
       "stream": "stdout",
       "text": [
        "Jun 16 14:34:34\t\tVelveth with hash value 15 finished.\r\n"
       ]
      },
      {
       "output_type": "stream",
       "stream": "stdout",
       "text": [
        "Jun 16 14:34:35\t\tRunning velveth with hash value: 23.\r\n"
       ]
      },
      {
       "output_type": "stream",
       "stream": "stdout",
       "text": [
        "Jun 16 14:34:36\t\tVelveth with hash value 13 finished.\r\n"
       ]
      },
      {
       "output_type": "stream",
       "stream": "stdout",
       "text": [
        "Jun 16 14:34:37\t\tVelveth with hash value 17 finished.\r\n",
        "Jun 16 14:34:37\t\tRunning velveth with hash value: 25.\r\n"
       ]
      },
      {
       "output_type": "stream",
       "stream": "stdout",
       "text": [
        "Jun 16 14:34:40\t\tRunning velveth with hash value: 27.\r\n"
       ]
      },
      {
       "output_type": "stream",
       "stream": "stdout",
       "text": [
        "Jun 16 14:37:26\t\tVelveth with hash value 21 finished.\r\n"
       ]
      },
      {
       "output_type": "stream",
       "stream": "stdout",
       "text": [
        "Jun 16 14:37:27\t\tRunning velveth with hash value: 29.\r\n"
       ]
      },
      {
       "output_type": "stream",
       "stream": "stdout",
       "text": [
        "Jun 16 14:37:28\t\tVelveth with hash value 25 finished.\r\n"
       ]
      },
      {
       "output_type": "stream",
       "stream": "stdout",
       "text": [
        "Jun 16 14:37:29\t\tRunning velveth with hash value: 31.\r\n"
       ]
      },
      {
       "output_type": "stream",
       "stream": "stdout",
       "text": [
        "Jun 16 14:37:29\t\tVelveth with hash value 27 finished.\r\n"
       ]
      },
      {
       "output_type": "stream",
       "stream": "stdout",
       "text": [
        "Jun 16 14:37:29\t\tVelveth with hash value 23 finished.\r\n"
       ]
      },
      {
       "output_type": "stream",
       "stream": "stdout",
       "text": [
        "Jun 16 14:39:15\t\tVelveth with hash value 31 finished.\r\n"
       ]
      },
      {
       "output_type": "stream",
       "stream": "stdout",
       "text": [
        "Jun 16 14:39:20\t\tVelveth with hash value 29 finished.\r\n"
       ]
      },
      {
       "output_type": "stream",
       "stream": "stdout",
       "text": [
        "Jun 16 14:39:20 Finished velveth runs.\r\n",
        "Jun 16 14:39:20 Beginning vanilla velvetg runs.\r\n"
       ]
      },
      {
       "output_type": "stream",
       "stream": "stdout",
       "text": [
        "Jun 16 14:39:20\t\tRunning vanilla velvetg on hash value: 13\r\n"
       ]
      },
      {
       "output_type": "stream",
       "stream": "stdout",
       "text": [
        "Jun 16 14:39:22\t\tRunning vanilla velvetg on hash value: 15\r\n"
       ]
      },
      {
       "output_type": "stream",
       "stream": "stdout",
       "text": [
        "Jun 16 14:39:24\t\tRunning vanilla velvetg on hash value: 17\r\n"
       ]
      },
      {
       "output_type": "stream",
       "stream": "stdout",
       "text": [
        "Jun 16 14:39:26\t\tRunning vanilla velvetg on hash value: 19\r\n"
       ]
      },
      {
       "output_type": "stream",
       "stream": "stdout",
       "text": [
        "Jun 16 14:48:35\t\tVelvetg on hash value: 19 finished.\r\n"
       ]
      },
      {
       "output_type": "stream",
       "stream": "stdout",
       "text": [
        "Jun 16 14:48:37\t\tRunning vanilla velvetg on hash value: 21\r\n"
       ]
      },
      {
       "output_type": "stream",
       "stream": "stdout",
       "text": [
        "Jun 16 14:48:53\t\tVelvetg on hash value: 17 finished.\r\n"
       ]
      },
      {
       "output_type": "stream",
       "stream": "stdout",
       "text": [
        "Jun 16 14:48:55\t\tRunning vanilla velvetg on hash value: 23\r\n"
       ]
      },
      {
       "output_type": "stream",
       "stream": "stdout",
       "text": [
        "Jun 16 14:49:18\t\tVelvetg on hash value: 15 finished.\r\n"
       ]
      },
      {
       "output_type": "stream",
       "stream": "stdout",
       "text": [
        "Jun 16 14:49:19\t\tRunning vanilla velvetg on hash value: 25\r\n"
       ]
      },
      {
       "output_type": "stream",
       "stream": "stdout",
       "text": [
        "Jun 16 14:51:10\t\tVelvetg on hash value: 13 finished.\r\n"
       ]
      },
      {
       "output_type": "stream",
       "stream": "stdout",
       "text": [
        "Jun 16 14:51:11\t\tRunning vanilla velvetg on hash value: 27\r\n"
       ]
      },
      {
       "output_type": "stream",
       "stream": "stdout",
       "text": [
        "Jun 16 14:55:17\t\tVelvetg on hash value: 25 finished.\r\n"
       ]
      },
      {
       "output_type": "stream",
       "stream": "stdout",
       "text": [
        "Jun 16 14:55:18\t\tRunning vanilla velvetg on hash value: 29\r\n"
       ]
      },
      {
       "output_type": "stream",
       "stream": "stdout",
       "text": [
        "Jun 16 14:55:18\t\tVelvetg on hash value: 21 finished.\r\n"
       ]
      },
      {
       "output_type": "stream",
       "stream": "stdout",
       "text": [
        "Jun 16 14:55:19\t\tVelvetg on hash value: 23 finished.\r\n"
       ]
      },
      {
       "output_type": "stream",
       "stream": "stdout",
       "text": [
        "Jun 16 14:55:20\t\tRunning vanilla velvetg on hash value: 31\r\n"
       ]
      },
      {
       "output_type": "stream",
       "stream": "stdout",
       "text": [
        "Jun 16 14:56:04\t\tVelvetg on hash value: 27 finished.\r\n"
       ]
      },
      {
       "output_type": "stream",
       "stream": "stdout",
       "text": [
        "Jun 16 14:58:41\t\tVelvetg on hash value: 31 finished.\r\n"
       ]
      },
      {
       "output_type": "stream",
       "stream": "stdout",
       "text": [
        "Jun 16 14:58:59\t\tVelvetg on hash value: 29 finished.\r\n"
       ]
      },
      {
       "output_type": "stream",
       "stream": "stdout",
       "text": [
        "Jun 16 14:58:59 Hash value of best assembly by assembly score: 31\r\n",
        "Jun 16 14:58:59 Optimisation routine chosen for best assembly: shortOpt\r\n",
        "Jun 16 14:58:59 Looking for the expected coverage\r\n"
       ]
      },
      {
       "output_type": "stream",
       "stream": "stdout",
       "text": [
        "Jun 16 14:58:59\t\tExpected coverage set to 3\r\n",
        "Jun 16 14:58:59 Beginning coverage cutoff optimisation\r\n"
       ]
      },
      {
       "output_type": "stream",
       "stream": "stdout",
       "text": [
        "Jun 16 14:58:59\t\tSetting cov_cutoff to 1.483.\r\n"
       ]
      },
      {
       "output_type": "stream",
       "stream": "stdout",
       "text": [
        "**********\r\n",
        "Warning: Assembly score for assembly_id 10 is 0\r\n",
        "You may want to consider choosing a different optimisation variable or function.\r\n",
        "Current optimisation functions are n50 for k value and Lcon for cov_cutoff\r\n",
        "**********\r\n",
        "Jun 16 15:02:41\t\tSetting cov_cutoff to 0.917.\r\n"
       ]
      },
      {
       "output_type": "stream",
       "stream": "stdout",
       "text": [
        "**********\r\n",
        "Warning: Assembly score for assembly_id 10 is 0\r\n",
        "You may want to consider choosing a different optimisation variable or function.\r\n",
        "Current optimisation functions are n50 for k value and Lcon for cov_cutoff\r\n",
        "**********\r\n",
        "\t\tLooking for best cutoff score between 0.000 and 2.400\r\n",
        "\t\tMax cutoff lies between 0.000 & 1.483\r\n",
        "\t\tfc = 0\tfd = 0\tabs diff = 0\r\n",
        "Jun 16 15:03:28\t\tSetting cov_cutoff to 0.567.\r\n"
       ]
      },
      {
       "output_type": "stream",
       "stream": "stdout",
       "text": [
        "**********\r\n",
        "Warning: Assembly score for assembly_id 10 is 0\r\n",
        "You may want to consider choosing a different optimisation variable or function.\r\n",
        "Current optimisation functions are n50 for k value and Lcon for cov_cutoff\r\n",
        "**********\r\n",
        "\t\tMax cutoff lies between 0.000 & 0.917\r\n",
        "\t\tfc = 0\tfd = 0\tabs diff = 0\r\n",
        "Jun 16 15:04:18\t\tSetting cov_cutoff to 0.350.\r\n"
       ]
      },
      {
       "output_type": "stream",
       "stream": "stdout",
       "text": [
        "**********\r\n",
        "Warning: Assembly score for assembly_id 10 is 0\r\n",
        "You may want to consider choosing a different optimisation variable or function.\r\n",
        "Current optimisation functions are n50 for k value and Lcon for cov_cutoff\r\n",
        "**********\r\n",
        "\t\tOptimum value of cutoff is 0.92\r\n",
        "\t\tTook 3 iterations\r\n",
        "Jun 16 15:05:08\r\n",
        "\r\n",
        "\r\n",
        "Final optimised assembly details:\r\n",
        "********************************************************\r\n",
        "Assembly id: 10\r\n",
        "Velveth timestamp: Jun 16 2014 14:39:15\r\n",
        "Velvetg timestamp: Jun 16 2014 15:05:08\r\n",
        "Velveth version: 1.2.09\r\n",
        "Velvetg version: 1.2.09\r\n",
        "Readfile(s): -fastq ../data/LV89-02.fastq\r\n",
        "Velveth parameter string: auto_data_31 31 -fastq ../data/LV89-02.fastq\r\n",
        "Velvetg parameter string: auto_data_31  -clean yes -exp_cov 3 -cov_cutoff 0.3502176\r\n",
        "Assembly directory: /home/arun/Documents/assembler-compare/scripts/auto_data_31\r\n",
        "Velvet hash value: 31\r\n",
        "Roadmap file size: 439572844\r\n",
        "Total number of contigs: 3568\r\n",
        "n50: 98\r\n",
        "length of longest contig: 965\r\n",
        "Total bases in contigs: 329515\r\n",
        "Number of contigs > 1k: 0\r\n",
        "Total bases in contigs > 1k: 0\r\n",
        "**********************************************************\r\n",
        "\r\n",
        "\r\n",
        "Assembly output files are in the following directory:\r\n",
        "/home/arun/Documents/assembler-compare/scripts/auto_data_31\r\n",
        "\r\n"
       ]
      }
     ],
     "prompt_number": 17
    },
    {
     "cell_type": "code",
     "collapsed": false,
     "input": [],
     "language": "python",
     "metadata": {},
     "outputs": [],
     "prompt_number": 16
    },
    {
     "cell_type": "code",
     "collapsed": false,
     "input": [],
     "language": "python",
     "metadata": {},
     "outputs": []
    }
   ],
   "metadata": {}
  }
 ]
}
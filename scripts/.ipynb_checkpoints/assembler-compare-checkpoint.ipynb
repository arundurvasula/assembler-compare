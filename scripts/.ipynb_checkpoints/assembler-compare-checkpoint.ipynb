{
 "metadata": {
  "name": ""
 },
 "nbformat": 3,
 "nbformat_minor": 0,
 "worksheets": [
  {
   "cells": [
    {
     "cell_type": "code",
     "collapsed": false,
     "input": [
      "import subprocess\n",
      "import os"
     ],
     "language": "python",
     "metadata": {},
     "outputs": [],
     "prompt_number": 15
    },
    {
     "cell_type": "code",
     "collapsed": false,
     "input": [
      "kmer = [\"15\", \"31\", \"2\"] #m, M, s (min, max, step)\n",
      "env = os.environ\n",
      "print env"
     ],
     "language": "python",
     "metadata": {},
     "outputs": [
      {
       "output_type": "stream",
       "stream": "stdout",
       "text": [
        "{'TMP': 'C:\\\\Users\\\\adurvasula\\\\AppData\\\\Local\\\\Temp\\\\', 'COMPUTERNAME': 'NEXT-GEN', 'USERDOMAIN': 'Next-gen', 'DELLCLIENTSYSTEMUPDATEPATH': 'C:\\\\Program Files (x86)\\\\Dell\\\\ClientSystemUpdate\\\\', 'PSMODULEPATH': 'C:\\\\Users\\\\adurvasula\\\\Documents\\\\WindowsPowerShell\\\\Modules;C:\\\\Windows\\\\system32\\\\WindowsPowerShell\\\\v1.0\\\\Modules\\\\', 'COMMONPROGRAMFILES': 'C:\\\\Program Files\\\\Common Files', 'PSEXECUTIONPOLICYPREFERENCE': 'Unrestricted', 'PROCESSOR_IDENTIFIER': 'Intel64 Family 6 Model 62 Stepping 4, GenuineIntel', 'PROGRAMFILES': 'C:\\\\Program Files', 'PROCESSOR_REVISION': '3e04', 'HOME': 'C:\\\\Users\\\\adurvasula', 'SYSTEMROOT': 'C:\\\\Windows', 'GITHUB_SHELL': 'true', 'POSH_GIT': 'C:\\\\Users\\\\adurvasula\\\\AppData\\\\Local\\\\GitHub\\\\PoshGit_8aecd991d8ccf3dc78b8cd397ee4e1595f8556d4\\\\profile.example.ps1', 'PROGRAMFILES(X86)': 'C:\\\\Program Files (x86)', 'SSH_AGENT_PID': '9396', 'TK_LIBRARY': 'C:\\\\Users\\\\adurvasula\\\\Anaconda\\\\tcl\\\\tk8.5', 'TERM': 'xterm-color', 'TEMP': 'C:\\\\Users\\\\adurvasula\\\\AppData\\\\Local\\\\Temp\\\\', 'PLINK_PROTOCOL': 'ssh', 'COMMONPROGRAMFILES(X86)': 'C:\\\\Program Files (x86)\\\\Common Files', 'PROCESSOR_ARCHITECTURE': 'AMD64', 'TIX_LIBRARY': 'C:\\\\Users\\\\adurvasula\\\\Anaconda\\\\tcl\\\\tix8.4.3', 'ALLUSERSPROFILE': 'C:\\\\ProgramData', 'EDITOR': 'GitPad', 'LOCALAPPDATA': 'C:\\\\Users\\\\adurvasula\\\\AppData\\\\Local', 'HOMEPATH': '\\\\Users\\\\adurvasula', 'PROGRAMW6432': 'C:\\\\Program Files', 'USERNAME': 'adurvasula', 'LOGONSERVER': '\\\\\\\\NEXT-GEN', 'WINDOWS_TRACING_FLAGS': '3', 'CLICOLOR': '1', 'PROGRAMDATA': 'C:\\\\ProgramData', 'SSH_AUTH_SOCK': '/tmp/ssh-WUIgX11260/agent.11260', 'GITHUB_POSH_GIT': 'C:\\\\Users\\\\adurvasula\\\\AppData\\\\Local\\\\GitHub\\\\PoshGit_8aecd991d8ccf3dc78b8cd397ee4e1595f8556d4', 'TCL_LIBRARY': 'C:\\\\Users\\\\adurvasula\\\\Anaconda\\\\tcl\\\\tcl8.5', 'PATH': 'C:\\\\Users\\\\adurvasula\\\\Anaconda\\\\lib\\\\site-packages\\\\numpy\\\\core;C:\\\\Users\\\\adurvasula\\\\AppData\\\\Local\\\\GitHub\\\\PortableGit_054f2e797ebafd44a30203088cd3d58663c627ef\\\\cmd;C:\\\\Users\\\\adurvasula\\\\AppData\\\\Local\\\\GitHub\\\\PortableGit_054f2e797ebafd44a30203088cd3d58663c627ef\\\\bin;C:\\\\Users\\\\adurvasula\\\\AppData\\\\Local\\\\Apps\\\\2.0\\\\E0ACG8EQ.3OH\\\\V1QJHGPM.7M8\\\\gith..tion_317444273a93ac29_0001.0003_e68db37a99107794;C:\\\\Windows\\\\Microsoft.NET\\\\Framework\\\\v4.0.30319;C:\\\\Users\\\\adurvasula\\\\AppData\\\\Local\\\\Apps\\\\2.0\\\\E0ACG8EQ.3OH\\\\V1QJHGPM.7M8\\\\gith..tion_317444273a93ac29_0001.0003_e68db37a99107794\\\\NativeBinaries/x86;C:\\\\Program Files (x86)\\\\Intel\\\\iCLS Client\\\\;C:\\\\Program Files\\\\Intel\\\\iCLS Client\\\\;C:\\\\Windows\\\\system32;C:\\\\Windows;C:\\\\Windows\\\\System32\\\\Wbem;C:\\\\Windows\\\\System32\\\\WindowsPowerShell\\\\v1.0\\\\;C:\\\\Program Files\\\\Intel\\\\Intel(R) Management Engine Components\\\\DAL;C:\\\\Program Files\\\\Intel\\\\Intel(R) Management Engine Components\\\\IPT;C:\\\\Program Files (x86)\\\\Intel\\\\Intel(R) Management Engine Components\\\\DAL;C:\\\\Program Files (x86)\\\\Intel\\\\Intel(R) Management Engine Components\\\\IPT;c:\\\\Program Files (x86)\\\\ATI Technologies\\\\ATI.ACE\\\\Core-Static;C:\\\\Program Files\\\\Dell\\\\Dell Data Protection\\\\TSS\\\\bin\\\\;C:\\\\Users\\\\adurvasula\\\\Anaconda;C:\\\\Users\\\\adurvasula\\\\Anaconda\\\\Scripts;C:\\\\Users\\\\adurvasula\\\\software', 'GIT_PAGER': 'cat', 'GIT_INSTALL_ROOT': 'C:\\\\Users\\\\adurvasula\\\\AppData\\\\Local\\\\GitHub\\\\PortableGit_054f2e797ebafd44a30203088cd3d58663c627ef', 'PATHEXT': '.COM;.EXE;.BAT;.CMD;.VBS;.VBE;.JS;.JSE;.WSF;.WSH;.MSC', 'SESSIONNAME': 'Console', 'FP_NO_HOST_CHECK': 'NO', 'WINDIR': 'C:\\\\Windows', 'WINDOWS_TRACING_LOGFILE': 'C:\\\\BVTBin\\\\Tests\\\\installpackage\\\\csilogfile.log', 'HOMEDRIVE': 'C:', 'PAGER': 'cat', 'SYSTEMDRIVE': 'C:', 'COMSPEC': 'C:\\\\Windows\\\\system32\\\\cmd.exe', 'NUMBER_OF_PROCESSORS': '16', 'APPDATA': 'C:\\\\Users\\\\adurvasula\\\\AppData\\\\Roaming', 'PROCESSOR_LEVEL': '6', 'GITHUB_GIT': 'C:\\\\Users\\\\adurvasula\\\\AppData\\\\Local\\\\GitHub\\\\PortableGit_054f2e797ebafd44a30203088cd3d58663c627ef', 'COMMONPROGRAMW6432': 'C:\\\\Program Files\\\\Common Files', 'OS': 'Windows_NT', 'PUBLIC': 'C:\\\\Users\\\\Public', 'USERPROFILE': 'C:\\\\Users\\\\adurvasula'}\n"
       ]
      }
     ],
     "prompt_number": 20
    },
    {
     "cell_type": "code",
     "collapsed": false,
     "input": [
      "velveth = [\"velveth ../data/ \" + kmer[0] + \",\" + kmer[1] + \",\" + kmer[2] + \" ../data/CB120-ds\\ trimmed\\ un-mapped\\ reads\\ \\[no\\ read\\ group\\]\\ \\(single\\).fa\"]\n",
      "velvetg = [\"velvetg ../data/\"]\n",
      "print subprocess.check_output(velveth, env = os.environ)\n",
      "print subprocess.check_output(velvetg, env=os.environ)"
     ],
     "language": "python",
     "metadata": {},
     "outputs": [
      {
       "ename": "WindowsError",
       "evalue": "[Error 2] The system cannot find the file specified",
       "output_type": "pyerr",
       "traceback": [
        "\u001b[1;31m---------------------------------------------------------------------------\u001b[0m\n\u001b[1;31mWindowsError\u001b[0m                              Traceback (most recent call last)",
        "\u001b[1;32m<ipython-input-21-8e235271e821>\u001b[0m in \u001b[0;36m<module>\u001b[1;34m()\u001b[0m\n\u001b[0;32m      1\u001b[0m \u001b[0mvelveth\u001b[0m \u001b[1;33m=\u001b[0m \u001b[1;33m[\u001b[0m\u001b[1;34m\"velveth ../data/ \"\u001b[0m \u001b[1;33m+\u001b[0m \u001b[0mkmer\u001b[0m\u001b[1;33m[\u001b[0m\u001b[1;36m0\u001b[0m\u001b[1;33m]\u001b[0m \u001b[1;33m+\u001b[0m \u001b[1;34m\",\"\u001b[0m \u001b[1;33m+\u001b[0m \u001b[0mkmer\u001b[0m\u001b[1;33m[\u001b[0m\u001b[1;36m1\u001b[0m\u001b[1;33m]\u001b[0m \u001b[1;33m+\u001b[0m \u001b[1;34m\",\"\u001b[0m \u001b[1;33m+\u001b[0m \u001b[0mkmer\u001b[0m\u001b[1;33m[\u001b[0m\u001b[1;36m2\u001b[0m\u001b[1;33m]\u001b[0m \u001b[1;33m+\u001b[0m \u001b[1;34m\" ../data/CB120-ds\\ trimmed\\ un-mapped\\ reads\\ \\[no\\ read\\ group\\]\\ \\(single\\).fa\"\u001b[0m\u001b[1;33m]\u001b[0m\u001b[1;33m\u001b[0m\u001b[0m\n\u001b[0;32m      2\u001b[0m \u001b[0mvelvetg\u001b[0m \u001b[1;33m=\u001b[0m \u001b[1;33m[\u001b[0m\u001b[1;34m\"velvetg ../data/\"\u001b[0m\u001b[1;33m]\u001b[0m\u001b[1;33m\u001b[0m\u001b[0m\n\u001b[1;32m----> 3\u001b[1;33m \u001b[1;32mprint\u001b[0m \u001b[0msubprocess\u001b[0m\u001b[1;33m.\u001b[0m\u001b[0mcheck_output\u001b[0m\u001b[1;33m(\u001b[0m\u001b[0mvelveth\u001b[0m\u001b[1;33m,\u001b[0m \u001b[0menv\u001b[0m \u001b[1;33m=\u001b[0m \u001b[0mos\u001b[0m\u001b[1;33m.\u001b[0m\u001b[0menviron\u001b[0m\u001b[1;33m)\u001b[0m\u001b[1;33m\u001b[0m\u001b[0m\n\u001b[0m\u001b[0;32m      4\u001b[0m \u001b[1;32mprint\u001b[0m \u001b[0msubprocess\u001b[0m\u001b[1;33m.\u001b[0m\u001b[0mcheck_output\u001b[0m\u001b[1;33m(\u001b[0m\u001b[0mvelvetg\u001b[0m\u001b[1;33m,\u001b[0m \u001b[0menv\u001b[0m\u001b[1;33m=\u001b[0m\u001b[0mos\u001b[0m\u001b[1;33m.\u001b[0m\u001b[0menviron\u001b[0m\u001b[1;33m)\u001b[0m\u001b[1;33m\u001b[0m\u001b[0m\n",
        "\u001b[1;32mC:\\Users\\adurvasula\\Anaconda\\lib\\subprocess.pyc\u001b[0m in \u001b[0;36mcheck_output\u001b[1;34m(*popenargs, **kwargs)\u001b[0m\n\u001b[0;32m    564\u001b[0m     \u001b[1;32mif\u001b[0m \u001b[1;34m'stdout'\u001b[0m \u001b[1;32min\u001b[0m \u001b[0mkwargs\u001b[0m\u001b[1;33m:\u001b[0m\u001b[1;33m\u001b[0m\u001b[0m\n\u001b[0;32m    565\u001b[0m         \u001b[1;32mraise\u001b[0m \u001b[0mValueError\u001b[0m\u001b[1;33m(\u001b[0m\u001b[1;34m'stdout argument not allowed, it will be overridden.'\u001b[0m\u001b[1;33m)\u001b[0m\u001b[1;33m\u001b[0m\u001b[0m\n\u001b[1;32m--> 566\u001b[1;33m     \u001b[0mprocess\u001b[0m \u001b[1;33m=\u001b[0m \u001b[0mPopen\u001b[0m\u001b[1;33m(\u001b[0m\u001b[0mstdout\u001b[0m\u001b[1;33m=\u001b[0m\u001b[0mPIPE\u001b[0m\u001b[1;33m,\u001b[0m \u001b[1;33m*\u001b[0m\u001b[0mpopenargs\u001b[0m\u001b[1;33m,\u001b[0m \u001b[1;33m**\u001b[0m\u001b[0mkwargs\u001b[0m\u001b[1;33m)\u001b[0m\u001b[1;33m\u001b[0m\u001b[0m\n\u001b[0m\u001b[0;32m    567\u001b[0m     \u001b[0moutput\u001b[0m\u001b[1;33m,\u001b[0m \u001b[0munused_err\u001b[0m \u001b[1;33m=\u001b[0m \u001b[0mprocess\u001b[0m\u001b[1;33m.\u001b[0m\u001b[0mcommunicate\u001b[0m\u001b[1;33m(\u001b[0m\u001b[1;33m)\u001b[0m\u001b[1;33m\u001b[0m\u001b[0m\n\u001b[0;32m    568\u001b[0m     \u001b[0mretcode\u001b[0m \u001b[1;33m=\u001b[0m \u001b[0mprocess\u001b[0m\u001b[1;33m.\u001b[0m\u001b[0mpoll\u001b[0m\u001b[1;33m(\u001b[0m\u001b[1;33m)\u001b[0m\u001b[1;33m\u001b[0m\u001b[0m\n",
        "\u001b[1;32mC:\\Users\\adurvasula\\Anaconda\\lib\\subprocess.pyc\u001b[0m in \u001b[0;36m__init__\u001b[1;34m(self, args, bufsize, executable, stdin, stdout, stderr, preexec_fn, close_fds, shell, cwd, env, universal_newlines, startupinfo, creationflags)\u001b[0m\n\u001b[0;32m    707\u001b[0m                                 \u001b[0mp2cread\u001b[0m\u001b[1;33m,\u001b[0m \u001b[0mp2cwrite\u001b[0m\u001b[1;33m,\u001b[0m\u001b[1;33m\u001b[0m\u001b[0m\n\u001b[0;32m    708\u001b[0m                                 \u001b[0mc2pread\u001b[0m\u001b[1;33m,\u001b[0m \u001b[0mc2pwrite\u001b[0m\u001b[1;33m,\u001b[0m\u001b[1;33m\u001b[0m\u001b[0m\n\u001b[1;32m--> 709\u001b[1;33m                                 errread, errwrite)\n\u001b[0m\u001b[0;32m    710\u001b[0m         \u001b[1;32mexcept\u001b[0m \u001b[0mException\u001b[0m\u001b[1;33m:\u001b[0m\u001b[1;33m\u001b[0m\u001b[0m\n\u001b[0;32m    711\u001b[0m             \u001b[1;31m# Preserve original exception in case os.close raises.\u001b[0m\u001b[1;33m\u001b[0m\u001b[1;33m\u001b[0m\u001b[0m\n",
        "\u001b[1;32mC:\\Users\\adurvasula\\Anaconda\\lib\\subprocess.pyc\u001b[0m in \u001b[0;36m_execute_child\u001b[1;34m(self, args, executable, preexec_fn, close_fds, cwd, env, universal_newlines, startupinfo, creationflags, shell, to_close, p2cread, p2cwrite, c2pread, c2pwrite, errread, errwrite)\u001b[0m\n\u001b[0;32m    955\u001b[0m                                          \u001b[0menv\u001b[0m\u001b[1;33m,\u001b[0m\u001b[1;33m\u001b[0m\u001b[0m\n\u001b[0;32m    956\u001b[0m                                          \u001b[0mcwd\u001b[0m\u001b[1;33m,\u001b[0m\u001b[1;33m\u001b[0m\u001b[0m\n\u001b[1;32m--> 957\u001b[1;33m                                          startupinfo)\n\u001b[0m\u001b[0;32m    958\u001b[0m             \u001b[1;32mexcept\u001b[0m \u001b[0mpywintypes\u001b[0m\u001b[1;33m.\u001b[0m\u001b[0merror\u001b[0m\u001b[1;33m,\u001b[0m \u001b[0me\u001b[0m\u001b[1;33m:\u001b[0m\u001b[1;33m\u001b[0m\u001b[0m\n\u001b[0;32m    959\u001b[0m                 \u001b[1;31m# Translate pywintypes.error to WindowsError, which is\u001b[0m\u001b[1;33m\u001b[0m\u001b[1;33m\u001b[0m\u001b[0m\n",
        "\u001b[1;31mWindowsError\u001b[0m: [Error 2] The system cannot find the file specified"
       ]
      }
     ],
     "prompt_number": 21
    },
    {
     "cell_type": "code",
     "collapsed": false,
     "input": [],
     "language": "python",
     "metadata": {},
     "outputs": []
    }
   ],
   "metadata": {}
  }
 ]
}